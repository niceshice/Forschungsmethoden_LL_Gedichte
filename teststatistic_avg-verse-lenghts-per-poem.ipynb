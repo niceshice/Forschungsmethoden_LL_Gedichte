{
 "cells": [
  {
   "cell_type": "markdown",
   "id": "f50e9eb4",
   "metadata": {},
   "source": [
    "## Probeweise Durchführung einer Teststatistik für durchschnittliche Verslängen pro Gedicht"
   ]
  },
  {
   "cell_type": "markdown",
   "id": "f75bc28b",
   "metadata": {},
   "source": [
    "1. Hypothesen\n",
    "- **Nullhypothese (H0)**: Es gibt **keinen signifikanten Unterschied** in der Verslänge zwischen den beiden Subsamples.\n",
    "- **Alternativhypothese (H1)**: Es gibt **einen signifikanten Unterschied** in der Verslänge zwischen den beiden Subsamples."
   ]
  },
  {
   "cell_type": "code",
   "execution_count": 1,
   "id": "0b1eb249",
   "metadata": {},
   "outputs": [],
   "source": [
    "import json\n",
    "import os\n",
    "import statistics\n",
    "import matplotlib.pyplot as plt\n",
    "import seaborn as sns\n",
    "from scipy.stats import ttest_ind, shapiro, mannwhitneyu"
   ]
  },
  {
   "cell_type": "markdown",
   "id": "498aa9e0",
   "metadata": {},
   "source": [
    "2. Daten vorbereiten"
   ]
  },
  {
   "cell_type": "code",
   "execution_count": 2,
   "id": "ddef76d0",
   "metadata": {},
   "outputs": [],
   "source": [
    "# Erstellung eines Dictionarys für jedes Teilkorpus (M/W)\n",
    "# Key: Gedichttitel, Value: durchschnittliche Anzahl von Tokens/Vers\n",
    "\n",
    "def count_tokens(poem):\n",
    "    total_tokens = 0\n",
    "    for line in poem.values():\n",
    "        text = line['text']\n",
    "        tokens = text.split()\n",
    "        total_tokens += len(tokens)\n",
    "    return total_tokens\n",
    "\n",
    "# Ordnerpfad mit den JSON-Dateien\n",
    "#folder_path = 'corpus_selenium_m'\n",
    "\n",
    "def avg_tokens_per_line(folder_path: str):\n",
    "# Dictionary zur Speicherung der Ergebnisse\n",
    "    average_tokens_per_line = {}\n",
    "\n",
    "    # Durchlaufe die JSON-Dateien im Ordner\n",
    "    for filename in os.listdir(folder_path):\n",
    "        if filename.endswith('.json'):\n",
    "            file_path = os.path.join(folder_path, filename)\n",
    "            with open(file_path, 'r') as file:\n",
    "                poem_data = json.load(file)\n",
    "                poem_lines = poem_data['poem']\n",
    "                title = poem_data['title']\n",
    "                num_lines = len(poem_lines)\n",
    "                num_tokens = count_tokens(poem_lines)\n",
    "                average_tokens = num_tokens / num_lines\n",
    "                average_tokens_per_line[title] = average_tokens  # mit Runden: round(average_tokens, 3)\n",
    "    \n",
    "    return average_tokens_per_line"
   ]
  },
  {
   "cell_type": "code",
   "execution_count": 3,
   "id": "4e46e958",
   "metadata": {},
   "outputs": [
    {
     "name": "stdout",
     "output_type": "stream",
     "text": [
      "{'teiresias-2570': 5.0, 'gehoeft-11241': 5.615384615384615, 'real-life-14343': 8.583333333333334, 'die-schlafkammer-des-lkw-fahrers-und-sein-poesiealbum-16429': 9.048780487804878, 'nach-dem-loop-leben-7422': 4.375, 'die-kleinste-armee-15134': 4.416666666666667, 'trostlied-im-konjunktiv-14383': 5.833333333333333, 'hauptbahnhof-frankfurt-am-main-iii-12362': 4.190476190476191, 'meine-gespenstische-geliehene-353': 4.1, 'tierleben-10-4019': 3.7333333333333334, 'als-statussymbol-16201': 11.2, 'aber-wir-werden-durch-den-abend-11566': 2.6, 'der-stille-grund-11236': 6.620689655172414, 'mit-sieben-augen-aufgewacht-und-keines-sieht-15222': 10.666666666666666, 'elementares-gedicht-2-12336': 5.529411764705882, 'halbfertige-zeichnung-13899': 5.722222222222222, 'oh-doerflichkeit-veraenderung-14337': 8.875, 'herde-der-rede-v-381': 6.258064516129032, 'als-belgien-furchtbar-war-13241': 5.466666666666667, 'neumen-unwelt-korollar': 5.25, 'mombasa-island-zweiter-juli-meine-liebste-12010': 6.770491803278689, 'dran-glauben-7425': 3.977272727272727, 'den-nachtblauen-falter-15511': 6.733333333333333, 'aus-dem-halbkreis-der-gefuehle-14347': 6.2631578947368425, 'ausschreibung-zum-familienfest-13207': 4.78030303030303, 'dein-lippenflimmern-3373': 5.615384615384615, 'haengende-gaerten-15522': 5.14, 'die-maulwuerfe-14378': 6.126984126984127, 'was-geschieht-wenn-steine-schmelzen-wollen-15220': 5.875, 'wolkenformeln-13978': 6.333333333333333, 'den-landschaften-3178': 5.0, 'eine-pralinenschachtel-voller-spaeziergange-290': 4.625, '125-episoden-imonki-16200': 11.1875, 'spuk-im-hochhaus-14204': 3.962962962962963, 'schnaell-11684': 3.0, 'koennten-sie-es-kuerzer-sagen-652': 2.5, 'bei-uns-zuhaus-679': 3.1818181818181817, 'hilde-ist-bestimmt-gar-nicht-nach-bonn-gefahren-12008': 6.8, 'anatomie-der-erinnerung-14148': 7.947368421052632, 'kara-burun-verlassenes-dorf-5665': 4.2, 'der-besuch-der-schwiegermutter-11238': 5.466666666666667, 'mittagsschlaf-13240': 5.3, 'gartenweg-5380': 8.035714285714286, 'ballhalten-12755': 6.428571428571429, 'mystical-wife-11833': 5.25, 'geister-13898': 5.956521739130435, 'der-schiffsbaumeister-10090': 5.943661971830986, 'einen-vorgeborenen-13206': 3.3846153846153846, 'fernab-der-stadt-3692': 4.583333333333333, 'das-schwarzbuch-die-farbfotos-iv-pack-deine-brocken-ein-12491': 4.714285714285714, 'der-donau-2616': 3.9166666666666665, 'sachliche-romanze-14375': 6.647058823529412, 'zwischenbilanz-12762': 5.5, 'mein-prinz-ich-bin-das-ghetto-16426': 7.625, 'es-immer-wieder-gelingt-es-2921': 3.3181818181818183, 'ein-ersatzlabyrinth-351': 4.2727272727272725, 'vom-richtigen-gebrauch-der-zeit-11679': 3.6, 'uebungen-11838': 5.909090909090909, 'tag-im-park-10661': 12.0, 'eine-nacht-herbeigeschrieben-12347': 4.764705882352941, 'halloweenkrabben-15641': 7.7272727272727275, 'ueber-die-erden-653': 6.829268292682927, 'alp-11834': 4.083333333333333, 'stiller-besuch-14376': 6.5, 'echo-11237': 6.5, 'moeglichkeiten-der-zusammenkunft-11835': 4.142857142857143, 'als-die-pferde-ungebunden-auf-den-wiesen-lebten-weideten-sie-das-gras-und-tranken-sie-wasser-13423': 9.0, 'koenigreich-der-verwaisten-bienenstoecke-15217': 8.9, 'das-weltall-ist-ein-grosser-wald-dem-die-angst-keine-ohren-hat-13424': 8.263157894736842, 'mathilde-aber-eingerahmt-14374': 5.972222222222222, 'wolfgangsee-15648': 7.093023255813954, 'expedition-10074': 4.7, 'jubilaeum-13202': 3.5, 'standprobe-14801': 5.095238095238095, 'lamour-spirituelle-5693': 4.869565217391305, 'buch-der-unruhe-5667': 3.3076923076923075, 'wolken-12342': 5.321428571428571, 'naturgedicht-3016': 5.986301369863014, 'der-postbote-15531': 4.96, 'un-ueber-beat-bar-12368': 8.695652173913043, 'ode-auf-die-gemeine-klette-und-george-de-mestral-den-erfinder-des-klettverschlusses-15601': 4.166666666666667, 'der-zettel-11681': 2.5625, 'das-gras-14420': 8.291666666666666, 'meine-liebste-gemahlin-hoffentlich-wird-es-heute-morgen-12009': 8.023809523809524, 'ich-bin-kein-elitepartner-12366': 6.228571428571429, 'elementares-gedicht-5-12339': 5.555555555555555, 'bildnis-einer-alten-dame-auf-einer-parkbank-sitzend-13896': 6.4, 'doch-deine-augen-halten-fest-11240': 4.928571428571429, 'angeln-vor-oland-15602': 5.368421052631579, 'sonette-bei-den-brombeeren-9-15534': 7.714285714285714, 'die-stille-von-schnee-12359': 4.837837837837838, 'silvae-gelichtet-4020': 5.666666666666667, 'kochanie-rocks-12365': 3.392857142857143, 'der-pollenflug-15513': 4.375, 'cyberschlafstoerung-12367': 4.351351351351352, 'erntedank-10656': 5.96, 'kleine-unruhe-13979': 6.135135135135135, 'alles-was-wir-tun-ist-musik-john-cage-13426': 7.75, 'erfuellung-11583': 3.5, 'alter-mann-mit-wolken-13894': 6.409090909090909, 'mittelwelle-12346': 4.25, 'aus-den-notizen-zu-einem-selbstbildnis-13237': 5.75, 'drei-schwestern-10078': 5.411764705882353, 'wo-genau-liegt-hartspann-12489': 6.44, 'ballade-von-der-unzulaenglichkeit-menschlichen-planens-770': 5.0, 'die-weissagung-wird-sich-bewahrheiten-15223': 6.375, 'solaruhren-11680': 2.75, 'auf-halbem-weg-10077': 4.75, 'wyoming-13239': 7.625, 'sahst-du-aleppo-noch-15643': 5.5, 'die-horizontbaeume-752': 3.1176470588235294, 'der-synthetische-mensch-14382': 7.825, 'junge-junge-junge-1424': 5.111111111111111, 'mittag-auf-der-wanderduene-13983': 3.235294117647059, 'sonette-bei-den-brombeeren-1-15533': 7.142857142857143, 'sonar-15518': 7.1875, 'ende-gut-frage-802': 6.142857142857143, 'tierleben-0-4009': 3.6315789473684212, 'svalbard-paem-15118': 5.130434782608695, 'ignatia-13-12641': 5.222222222222222, 'im-verlauf-des-folgenden-jahres-verbrachte-er-einige-wochen-im-haus-der-fallenden-persimonen-13422': 9.166666666666666, 'horizontbetrachter-3177': 4.4, 'wasser-und-feuer-68': 7.423076923076923, 'so-weiss-war-der-morgen-so-15604': 5.75, 'zersprengte-neuigkeiten-14345': 8.071428571428571, 'du-bist-eine-lilie-15524': 3.71875, 'mantra-14139': 47.0, 'schatzkarte-10658': 6.894736842105263, 'maervent-oiosis-11952': 3.1791044776119404, 'wald-vogel-6046': 7.04, 'hinterland-i-iv-3381': 5.873563218390805, 'kiarostami-13981': 5.25, 'kein-komma-kein-punkt-darf-brennen-14800': 5.944444444444445, 'zwangsmittel-12267': 3.1403508771929824, 'es-muss-nochmals-darauf-hingewiesen-werden-14213': 5.944444444444445}\n",
      "N: 135\n"
     ]
    }
   ],
   "source": [
    "avg_vers_lengths_m = avg_tokens_per_line('corpus_selenium_m')\n",
    "print(avg_vers_lengths_m)\n",
    "print(f'N: {len(avg_vers_lengths_m)}')"
   ]
  },
  {
   "cell_type": "code",
   "execution_count": 4,
   "id": "6b668980",
   "metadata": {},
   "outputs": [
    {
     "name": "stdout",
     "output_type": "stream",
     "text": [
      "{'jetzt-da-die-letzten-bilder-verschwunden-sind-14895': 7.818181818181818, 'aus-duengerkind-i-15421': 4.5, 'kaskade-des-gluecks-12653': 5.75, 'bukowina-i-545': 2.2222222222222223, 'uraniafalter-13623': 7.88, 'nichts-12405': 8.333333333333334, 'so-augenweide-achsen-doch-als-springe-und-trete-man-rueckwaerts-15456': 9.3, 'vorhersehbar-infiziert-11022': 6.75, 'muede-wie-ich-12403': 8.88888888888889, 'grabende-13886': 4.25, 'balance-balance-1520': 4.857142857142857, 'hibiskus-14762': 6.0, 'brief-im-april-15724': 7.916666666666667, 'es-strahlt-ab-wie-eine-waerme-15424': 10.625, 'so-augenweide-achsen-als-stuende-man-am-franzoesischen-fenster-15452': 9.1, 'donauwuerfel-vierter-wuerfel-15111': 5.554545454545455, 'noch-bist-du-da-555': 2.823529411764706, 'loechrig-mein-speicher-14543': 3.6666666666666665, 'donauwuerfel-erster-wuerfel-15110': 5.845454545454546, 'wildern-13889': 3.388888888888889, 'so-augenweide-achsen-man-trippelt-zu-weit-nach-links-15455': 9.7, 'sein-fliegen-liegt-nicht-der-anatomie-11916': 6.294117647058823, 'auszaehlreime-1420': 3.2, 'prism-10803': 10.578947368421053, 'wir-leben-wir-sind-fuer-alles-12652': 5.380952380952381, 'im-atemhaus-554': 3.625, 'rechenaufgabe-unter-traenen-1416': 5.0, 'sternengeschichte-450': 4.5, 'umzug-11982': 8.25, 'der-schaefer-strickte-13928': 6.352941176470588, 'donauwuerfel-zehnter-wuerfel-15112': 5.6454545454545455, 'wald-16352': 3.2857142857142856, 'wanderlust-14766': 5.52, 'postkarte-15723': 9.5, 'wolken-12397': 10.444444444444445, 'beim-durchblaettern-dieser-bewerbung-14894': 8.692307692307692, 'proem-auf-den-aenderungsschneider-aslan-gueltekin-63': 6.416666666666667, 'anbruch-13884': 4.136363636363637, 'kinderheim-1-13403': 7.363636363636363, 'am-fenster-abends': 3.6666666666666665, 'ich-weiss-nicht-wie-14545': 3.0, 'territorium-13893': 3.875, 'eine-landschaft-die-daliegt-11926': 5.409090909090909, 'wo-mag-denn-nur-mein-christian-sein-14760': 6.4411764705882355, 'vor-jahren-fiel-es-mir-schwer-das-licht-im-bett-auszuknipsen-15423': 7.684210526315789, 'alemannische-mangos-15731': 9.352941176470589, 'ich-ging-schuhen-aus-glas-14897': 9.125, 'weltraum-13890': 4.666666666666667, 'kleine-eloge-der-zaertlichkeit-13245': 5.34375, 'die-metaphorische-logik-einer-verbindung-11651': 5.5, 'war-himmel-5648': 6.5, 'kinderheim-5-13408': 8.3, 'erdaepfel-13885': 3.4545454545454546, 'und-ueberall-koennen-wir-singen-15721': 6.352941176470588, 'aus-meinem-arbeitsbericht-ich-stellte-keine-fragen-14900': 9.0625, 'eigentlich-1415': 3.1666666666666665, 'kuenstliche-landschaften-5-7654': 7.0, 'versuch-einer-heimatbestimmung-13246': 5.526315789473684, 'felder-offen-fuer-jedes-licht-15198': 5.0, 'kleine-auseinandersetzung-1583': 7.35, 'den-pausen-zwischen-den-baeumen-schnee-437': 6.333333333333333, 'ohne-ueberschrift-1581': 7.642857142857143, 'gedicht-386': 5.3, 'kamerafahrt-ein-anderes-jahrhundert-14892': 7.666666666666667, 'wind-teheran-13243': 3.76, 'planetarium-15196': 4.666666666666667, 'du-heller-herbst-14765': 10.444444444444445, 'wir-bleiben-noch-das-abendlicht-15201': 4.68, 'exodon-paradoxus-zweitupfen-raubsammler-15347': 33.0, 'tod-durch-beschreibung-14049': 4.226086956521739, 'orangenmarmelade-14759': 7.894736842105263, 'antarktika-15729': 7.25, 'teich-1840': 6.5, 'so-augenweide-achsen-dann-eilt-bei-jedem-tritt-ein-klick-klack-15457': 9.9, 'die-blumen-des-boesen-12398': 7.444444444444445, 'nachthonig-13569': 3.888888888888889, 'good-night-6059': 3.888888888888889, 'benanntes-gefilde-14636': 5.235294117647059, 'unter-dem-wacholder-12399': 8.58974358974359, 'musik-von-sanften-motoren-11590': 5.285714285714286, 'die-mittagsstunde-12395': 9.444444444444445, 'im-brennglas-13934': 5.166666666666667, 'kinderheim-_-13402': 6.0, 'melaten-14763': 5.0, 'nacht-14534': 2.392857142857143, 'dies-ist-das-paradies-15722': 6.384615384615385, 'einander-verweisende-weisen-13932': 4.142857142857143, 'kleines-glueckwunschgedicht-1414': 3.3333333333333335, 'das-gezweig-bin-ich-11586': 8.666666666666666, 'hab-acht-11593': 7.384615384615385, 'stunde-null-loop-12649': 6.0, 'der-wasserwolf-13929': 6.074074074074074, 'morgenschauer-12400': 8.666666666666666, 'aus-duengerkind-ii-15422': 3.9473684210526314, 'reise-zum-mond-12396': 9.083333333333334, 'was-zwischen-den-graesern-verloren-ging-15718': 7.090909090909091}\n",
      "N: 96\n"
     ]
    }
   ],
   "source": [
    "avg_vers_lengths_w = avg_tokens_per_line('corpus_selenium_w')\n",
    "print(avg_vers_lengths_w)\n",
    "print(f'N: {len(avg_vers_lengths_w)}')"
   ]
  },
  {
   "cell_type": "markdown",
   "id": "df8171d6",
   "metadata": {},
   "source": [
    "3. Deskriptive Statistik\n",
    "- Durchschnitt (Mittelwert)\n",
    "- Standardabweichung der Verslängen für jedes Subsample"
   ]
  },
  {
   "cell_type": "code",
   "execution_count": 5,
   "id": "80f8303c",
   "metadata": {},
   "outputs": [
    {
     "name": "stdout",
     "output_type": "stream",
     "text": [
      "Durchschnittliche Verslänge Männer: 6.038382038221746\n",
      "Durchschnittliche Verslänge Frauen: 6.536569921710585\n",
      "Standardabweichung der Verslänge Männer: 4.003073073905154\n",
      "Standardabweichung der Verslänge Frauen: 3.4729603525280357\n"
     ]
    }
   ],
   "source": [
    "def calculate_statistics(verse_lengths):\n",
    "    # Berechnung des Durchschnitts (Mittelwert)\n",
    "    average = statistics.mean(verse_lengths)\n",
    "    \n",
    "    # Berechnung der Standardabweichung\n",
    "    std_deviation = statistics.stdev(verse_lengths)\n",
    "    \n",
    "    return average, std_deviation\n",
    "\n",
    "# Extrahiere die Verslängen aus dem Dictionary\n",
    "verse_lengths_m = list(avg_vers_lengths_m.values())\n",
    "verse_lengths_w = list(avg_vers_lengths_w.values())\n",
    "\n",
    "# Berechne Durchschnitt und Standardabweichung\n",
    "average_length_m, std_deviation_m = calculate_statistics(verse_lengths_m)\n",
    "average_length_w, std_deviation_w = calculate_statistics(verse_lengths_w)\n",
    "\n",
    "# Ausgabe der Ergebnisse\n",
    "print(\"Durchschnittliche Verslänge Männer:\", average_length_m)\n",
    "print(\"Durchschnittliche Verslänge Frauen:\", average_length_w)\n",
    "print(\"Standardabweichung der Verslänge Männer:\", std_deviation_m)\n",
    "print(\"Standardabweichung der Verslänge Frauen:\", std_deviation_w)\n"
   ]
  },
  {
   "cell_type": "markdown",
   "id": "58e5a9a7",
   "metadata": {},
   "source": [
    "4. Statistischer Test"
   ]
  },
  {
   "cell_type": "markdown",
   "id": "087e6ac7",
   "metadata": {},
   "source": [
    "## t-Test:\n",
    "- Ergebnis: p-Wert\n",
    "- gibt an, wie wahrscheinlich es ist, dass der beobachteter Unterschied in der Verslänge zwischen den Subsamples zufällig ist\n",
    "- kleiner p-Wert (kleiner als 0,05) bedeutet statistische Signifikanz\n",
    "- p-Wert als Basis für Entscheidung, ob die Nullhypothese abgelehnt wird oder nicht"
   ]
  },
  {
   "cell_type": "code",
   "execution_count": 6,
   "id": "4041166a",
   "metadata": {},
   "outputs": [
    {
     "name": "stdout",
     "output_type": "stream",
     "text": [
      "t-Statistic: nan\n",
      "p-Value: nan\n",
      "Degrees of Freedom: 220.05189263285226\n"
     ]
    },
    {
     "name": "stderr",
     "output_type": "stream",
     "text": [
      "/Users/jule/opt/anaconda3/lib/python3.9/site-packages/numpy/core/fromnumeric.py:3702: RuntimeWarning: Degrees of freedom <= 0 for slice\n",
      "  return _methods._var(a, axis=axis, dtype=dtype, out=out, ddof=ddof,\n",
      "/Users/jule/opt/anaconda3/lib/python3.9/site-packages/numpy/core/_methods.py:253: RuntimeWarning: invalid value encountered in double_scalars\n",
      "  ret = ret.dtype.type(ret / rcount)\n"
     ]
    }
   ],
   "source": [
    "# Durchschnittliche Verslänge und Standardabweichung für den Subsample mit männlichen Autoren siehe oben\n",
    "sample_size_m = len(verse_lengths_m)\n",
    "\n",
    "# Durchschnittliche Verslänge und Standardabweichung für den Subsample mit weiblichen Autoren siehe oben\n",
    "sample_size_w = len(verse_lengths_w)\n",
    "\n",
    "# Durchführung des t-Tests\n",
    "t_statistic, p_value = ttest_ind([average_length_m], [average_length_w],\n",
    "                                alternative='two-sided',\n",
    "                                equal_var=False)\n",
    "\n",
    "# Berechnung der Degrees of Freedom\n",
    "df = ((std_deviation_m ** 2 / sample_size_m + std_deviation_w ** 2 / sample_size_w) ** 2) / (\n",
    "        (std_deviation_m ** 2 / sample_size_m) ** 2 / (sample_size_m - 1) + (\n",
    "        std_deviation_w ** 2 / sample_size_w) ** 2 / (sample_size_w - 1))\n",
    "\n",
    "# Ausgabe der Ergebnisse\n",
    "print(\"t-Statistic:\", t_statistic)\n",
    "print(\"p-Value:\", p_value)\n",
    "print(\"Degrees of Freedom:\", df)"
   ]
  },
  {
   "cell_type": "markdown",
   "id": "c37babc3",
   "metadata": {},
   "source": [
    "Mögliche Ursache/Problem für diese Fehlermeldung:\n",
    "\n",
    "- Voraussetzung für t-Test (siehe Stefanowitsch, Kap. 6, S. 196): Normalverteilung, nur sehr kleine Unterschiede zwischen den Subsamples, Ausreißer oder sehr starke Abweichungen "
   ]
  },
  {
   "cell_type": "markdown",
   "id": "b3bc1498",
   "metadata": {},
   "source": [
    "&rarr; testen, ob vorliegende Daten normalverteilt sind"
   ]
  },
  {
   "cell_type": "code",
   "execution_count": 13,
   "id": "4f14221a",
   "metadata": {},
   "outputs": [
    {
     "name": "stdout",
     "output_type": "stream",
     "text": [
      "Shapiro-Wilk-Test für Sample M:\n",
      "Teststatistik: 0.4257562756538391\n",
      "p-Wert: 9.268721937957198e-21\n",
      "Die Tokenfrequenzen für Sample M sind nicht normalverteilt.\n",
      "Shapiro-Wilk-Test für Sample W:\n",
      "Teststatistik: 0.6479308605194092\n",
      "p-Wert: 7.732259521249854e-14\n",
      "Die Tokenfrequenzen für Sample W sind nicht normalverteilt.\n"
     ]
    }
   ],
   "source": [
    "# Funktion zum Durchführen des Shapiro-Wilk-Tests und zur Interpretation der Ergebnisse\n",
    "def test_normality(data, sample_name):\n",
    "    stat, p_value = shapiro(data)\n",
    "    alpha = 0.05  # Signifikanzniveau\n",
    "    print(f\"Shapiro-Wilk-Test für {sample_name}:\")\n",
    "    print(\"Teststatistik:\", stat)\n",
    "    print(\"p-Wert:\", p_value)\n",
    "    if p_value > alpha:\n",
    "        print(f\"Die Tokenfrequenzen für {sample_name} sind normalverteilt.\")\n",
    "    else:\n",
    "        print(f\"Die Tokenfrequenzen für {sample_name} sind nicht normalverteilt.\")\n",
    "\n",
    "# Durchführung des Tests für beide Subsamples\n",
    "test_normality(verse_lengths_m, \"Sample M\")\n",
    "test_normality(verse_lengths_w, \"Sample W\")"
   ]
  },
  {
   "cell_type": "markdown",
   "id": "3ce500c2",
   "metadata": {},
   "source": [
    "Visualisierung der Verteilung"
   ]
  },
  {
   "cell_type": "code",
   "execution_count": 8,
   "id": "36c15abc",
   "metadata": {},
   "outputs": [
    {
     "data": {
      "image/png": "[encoded data removed]",
      "text/plain": [
       "<Figure size 576x432 with 1 Axes>"
      ]
     },
     "metadata": {
      "needs_background": "light"
     },
     "output_type": "display_data"
    },
    {
     "data": {
      "image/png": "[encoded data removed]",
      "text/plain": [
       "<Figure size 576x432 with 1 Axes>"
      ]
     },
     "metadata": {
      "needs_background": "light"
     },
     "output_type": "display_data"
    },
    {
     "data": {
      "image/png": "[encoded data removed]",
      "text/plain": [
       "<Figure size 576x432 with 1 Axes>"
      ]
     },
     "metadata": {
      "needs_background": "light"
     },
     "output_type": "display_data"
    },
    {
     "data": {
      "image/png": "[encoded data removed]",
      "text/plain": [
       "<Figure size 576x432 with 1 Axes>"
      ]
     },
     "metadata": {
      "needs_background": "light"
     },
     "output_type": "display_data"
    }
   ],
   "source": [
    "# Histogramm für Subsample M\n",
    "plt.figure(figsize=(8, 6))\n",
    "sns.histplot(verse_lengths_m, kde=False, color='blue', bins=10)\n",
    "plt.title('Histogramm für Subsample M')\n",
    "plt.xlabel('Durchschnittliche Verslänge')\n",
    "plt.ylabel('Häufigkeit')\n",
    "plt.show()\n",
    "\n",
    "# Histogramm für Subsample W\n",
    "plt.figure(figsize=(8, 6))\n",
    "sns.histplot(verse_lengths_w, kde=False, color='orange', bins=10)\n",
    "plt.title('Histogramm für Subsample W')\n",
    "plt.xlabel('Durchschnittliche Verslänge')\n",
    "plt.ylabel('Häufigkeit')\n",
    "plt.show()\n",
    "\n",
    "# Kernel Density Plot für Subsample M\n",
    "plt.figure(figsize=(8, 6))\n",
    "sns.kdeplot(verse_lengths_m, color='blue')\n",
    "plt.title('Kernel Density Plot für Subsample M')\n",
    "plt.xlabel('Durchschnittliche Verslänge')\n",
    "plt.ylabel('Dichte')\n",
    "plt.show()\n",
    "\n",
    "# Kernel Density Plot für Subsample W\n",
    "plt.figure(figsize=(8, 6))\n",
    "sns.kdeplot(verse_lengths_w, color='orange')\n",
    "plt.title('Kernel Density Plot für Subsample 2')\n",
    "plt.xlabel('Durchschnittliche Verslänge')\n",
    "plt.ylabel('Dichte')\n",
    "plt.show()"
   ]
  },
  {
   "cell_type": "markdown",
   "id": "eb36fa6b",
   "metadata": {},
   "source": [
    "&rarr; **t-Test** (= Test für Kardinaldaten) kann nicht verwendet werden, weil Daten nicht normalverteilt sind!\n",
    "\n",
    "## &rarr; **Mann-Whitney-U-Test** (= Test für Ordinaldaten)\n",
    "- Ausweichmöglichkeit, wenn t-Test wegen nicht normalverteilten Daten nicht sinnvoll ist (siehe Stefanowitsch, Kap. 6, S. 198)"
   ]
  },
  {
   "cell_type": "code",
   "execution_count": 21,
   "id": "101cbb78",
   "metadata": {},
   "outputs": [
    {
     "name": "stdout",
     "output_type": "stream",
     "text": [
      "Mann-Whitney-U-Test:\n",
      "U-Statistik: 5560.0\n",
      "p-Wert: 0.06621298163563925\n",
      "Es gibt keinen signifikanten Unterschied zwischen den Subsamples.\n",
      "(U = 5560.0, N1 = 135, N2 = 96, p > 0.05)\n"
     ]
    }
   ],
   "source": [
    "# Durchführung des Mann-Whitney-U-Tests\n",
    "u_statistic, p_value = mannwhitneyu(verse_lengths_m, verse_lengths_w, alternative='two-sided')\n",
    "\n",
    "# Ausgabe der Ergebnisse\n",
    "print(\"Mann-Whitney-U-Test:\")\n",
    "print(\"U-Statistik:\", u_statistic)\n",
    "print(\"p-Wert:\", p_value)\n",
    "\n",
    "if p_value > 0.05:\n",
    "    print(\"Es gibt keinen signifikanten Unterschied zwischen den Subsamples.\")\n",
    "else:\n",
    "    print(\"Es gibt einen signifikanten Unterschied zwischen den Subsamples.\")\n",
    "\n",
    "print(f\"(U = {u_statistic}, N1 = {sample_size_m}, N2 = {sample_size_w}, p > 0.05)\")"
   ]
  },
  {
   "cell_type": "markdown",
   "id": "c091b69e",
   "metadata": {},
   "source": [
    "**&rarr; Nullhypothese kann nicht abgelehnt werden.**\n",
    "\n",
    "- <span style=\"color:red\"> aber! : p-Wert ist \"nur\" um ca. 0.016 größer, also fast an 0.05 dran </span>?"
   ]
  },
  {
   "cell_type": "markdown",
   "id": "e1a0a172",
   "metadata": {},
   "source": [
    "5. Visualisierung"
   ]
  },
  {
   "cell_type": "code",
   "execution_count": 14,
   "id": "587cb28d",
   "metadata": {},
   "outputs": [
    {
     "data": {
      "image/png": "[encoded data removed]",
      "text/plain": [
       "<Figure size 432x432 with 1 Axes>"
      ]
     },
     "metadata": {
      "needs_background": "light"
     },
     "output_type": "display_data"
    }
   ],
   "source": [
    "# Zusammenführen der Daten in einem DataFrame für seaborn\n",
    "import pandas as pd\n",
    "data = pd.DataFrame({\n",
    "    \"Geschlecht\": [\"männlich\"] * sample_size_m + [\"weiblich\"] * sample_size_w,\n",
    "    \"Durchschnittliche Verslänge\": verse_lengths_m + verse_lengths_w\n",
    "})\n",
    "\n",
    "# Boxplot erstellen\n",
    "fig, ax = plt.subplots(figsize=(6, 6))\n",
    "sns.boxenplot(x=\"Geschlecht\", y=\"Durchschnittliche Verslänge\", data=data, ax=ax)\n",
    "\n",
    "# Label und Titel bestimmen\n",
    "plt.xlabel(\"Teilkorpus\")\n",
    "plt.ylabel(\"Durchschnittliche Verslänge\")\n",
    "plt.title(\"Durchschnittliche Verslänge der Gedichte nach Geschlecht\")\n",
    "\n",
    "\n",
    "# Plot anzeigen\n",
    "plt.tight_layout()\n",
    "plt.show()"
   ]
  },
  {
   "cell_type": "code",
   "execution_count": 19,
   "id": "b056a64d",
   "metadata": {},
   "outputs": [
    {
     "name": "stdout",
     "output_type": "stream",
     "text": [
      "MannwhitneyuResult(statistic=18225.0, pvalue=4.524287799021116e-52) MannwhitneyuResult(statistic=9216.0, pvalue=1.7734965593085555e-37)\n"
     ]
    }
   ],
   "source": []
  },
  {
   "cell_type": "code",
   "execution_count": null,
   "id": "24da5827",
   "metadata": {},
   "outputs": [],
   "source": []
  }
 ],
 "metadata": {
  "kernelspec": {
   "display_name": "Python 3 (ipykernel)",
   "language": "python",
   "name": "python3"
  },
  "language_info": {
   "codemirror_mode": {
    "name": "ipython",
    "version": 3
   },
   "file_extension": ".py",
   "mimetype": "text/x-python",
   "name": "python",
   "nbconvert_exporter": "python",
   "pygments_lexer": "ipython3",
   "version": "3.9.7"
  }
 },
 "nbformat": 4,
 "nbformat_minor": 5
}
