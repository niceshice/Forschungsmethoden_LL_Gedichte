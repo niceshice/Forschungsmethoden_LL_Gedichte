{
 "cells": [
  {
   "cell_type": "code",
   "execution_count": 1,
   "metadata": {},
   "outputs": [],
   "source": [
    "import os\n",
    "import json\n",
    "import spacy\n",
    "from collections import Counter\n",
    "import matplotlib.pyplot as plt\n",
    "import numpy as np\n",
    "import statistics\n",
    "\n",
    "from scipy.stats import ttest_ind, shapiro, mannwhitneyu\n"
   ]
  },
  {
   "cell_type": "code",
   "execution_count": 2,
   "metadata": {},
   "outputs": [
    {
     "name": "stdout",
     "output_type": "stream",
     "text": [
      "Gender: m\n",
      "Overall average relative noun ratio: 0.22953057654049852\n",
      "Median relative noun ratio: 0.2222222222222222\n",
      "Minimum relative noun ratio: 0.0136986301369863\n",
      "Maximum relative noun ratio: 0.38636363636363635 \n",
      "\n",
      "Gender: w\n",
      "Overall average relative noun ratio: 0.21992613278808584\n",
      "Median relative noun ratio: 0.21978021978021978\n",
      "Minimum relative noun ratio: 0.03333333333333333\n",
      "Maximum relative noun ratio: 0.42105263157894735 \n",
      "\n",
      "Gender: m\n",
      "10 most common nouns [('Zeit', 35), ('Leben', 23), ('Wolken', 21), ('Erde', 21), ('Licht', 20), ('Augen', 20), ('Gras', 19), ('Frau', 18), ('Nacht', 17), ('Liebe', 17)]\n",
      "Gender: w\n",
      "10 most common nouns [('Licht', 14), ('Schnee', 13), ('Fluss', 13), ('Zeit', 12), ('Wind', 11), ('Wasser', 11), ('Rücken', 10), ('Nacht', 9), ('tag', 9), ('Flüsse', 9)]\n"
     ]
    }
   ],
   "source": [
    "\n",
    "path = r'corpus_finished'\n",
    "\n",
    "# Load German tokenizer, tagger, parser, NER and word vectors\n",
    "nlp = spacy.load('de_core_news_md')\n",
    "\n",
    "# Function to extract nouns from a text\n",
    "def extract_nouns(text):\n",
    "    doc = nlp(text)\n",
    "    return [token.text for token in doc if token.pos_ == 'NOUN']\n",
    "\n",
    "# Initialize data structures\n",
    "nouns_gender = {'m': Counter(), 'w': Counter()}\n",
    "noun_ratios_gender = {'m': [], 'w': []}\n",
    "\n",
    "# Iterate over .json files\n",
    "for filename in os.listdir(path):\n",
    "    if filename.endswith('.json'):\n",
    "        with open(os.path.join(path, filename), 'r', encoding='utf-8') as f:\n",
    "            data = json.load(f)\n",
    "            gender = data['gender']\n",
    "            poem_text = ' '.join(line['text'] for line in data['poem'].values())\n",
    "            nouns = extract_nouns(poem_text)\n",
    "            ratio = len(nouns) / len(poem_text.split())\n",
    "            nouns_gender[gender].update(nouns)\n",
    "            noun_ratios_gender[gender].append(ratio)\n",
    "\n",
    "# Calculate average noun ratios for each gender and category\n",
    "average_ratios_gender = {gender: sum(ratios) / len(ratios) for gender, ratios in noun_ratios_gender.items()}\n",
    "\n",
    "all_genders = sorted(list(average_ratios_gender.keys()))\n",
    "\n",
    "# Create a bar chart for each category, comparing genders\n",
    "#bar_width = 0.35\n",
    "#index = np.arange(len(selected_categories))\n",
    "\n",
    "#plt.figure(figsize=(5, 5))\n",
    "\n",
    "#for i, gender in enumerate(all_genders):\n",
    "#    ratios = [average_ratios_gender_category[gender].get(category, 0) for category in selected_categories]\n",
    "#    plt.bar(index + i * bar_width, ratios, bar_width, label=gender)\n",
    "\n",
    "#plt.title('Average Relative Noun Ratio by Selected Categories and Gender')\n",
    "#plt.xlabel('Category')\n",
    "#plt.ylabel('Average Relative Noun Ratio')\n",
    "#plt.xticks(index + bar_width / 2, selected_categories, rotation=90)\n",
    "#plt.legend()\n",
    "#plt.tight_layout()\n",
    "#plt.show()\n",
    "\n",
    "# Print the overall, median, minimum and maximum noun ratio for each gender\n",
    "for gender in all_genders:\n",
    "    all_ratios = noun_ratios_gender[gender]\n",
    "    print(f'Gender: {gender}')\n",
    "    print('Overall average relative noun ratio:', sum(all_ratios) / len(all_ratios))\n",
    "    print('Median relative noun ratio:', statistics.median(all_ratios))\n",
    "    print('Minimum relative noun ratio:', min(all_ratios))\n",
    "    print('Maximum relative noun ratio:', max(all_ratios), '\\n')\n",
    "\n",
    "# Print the 10 most common nouns for each gender and selected category\n",
    "for gender in all_genders:\n",
    "    print(f'Gender: {gender}')\n",
    "    print('10 most common nouns', nouns_gender[gender].most_common(10))\n"
   ]
  },
  {
   "cell_type": "code",
   "execution_count": 3,
   "metadata": {},
   "outputs": [
    {
     "name": "stdout",
     "output_type": "stream",
     "text": [
      "Shapiro-Wilk-Test für Sample M:\n",
      "Teststatistik: 0.9876543283462524\n",
      "p-Wert: 0.269721120595932\n",
      "Die Substantivfrequenzen für Sample M sind normalverteilt.\n",
      "Shapiro-Wilk-Test für Sample W:\n",
      "Teststatistik: 0.9865366816520691\n",
      "p-Wert: 0.4445326328277588\n",
      "Die Substantivfrequenzen für Sample W sind normalverteilt.\n"
     ]
    }
   ],
   "source": [
    "# Funktion zum Durchführen des Shapiro-Wilk-Tests und zur Interpretation der Ergebnisse\n",
    "def test_normality(data, sample_name):\n",
    "    stat, p_value = shapiro(data)\n",
    "    alpha = 0.05  # Signifikanzniveau\n",
    "    print(f\"Shapiro-Wilk-Test für {sample_name}:\")\n",
    "    print(\"Teststatistik:\", stat)\n",
    "    print(\"p-Wert:\", p_value)\n",
    "    if p_value > alpha:\n",
    "        print(f\"Die Substantivfrequenzen für {sample_name} sind normalverteilt.\")\n",
    "    else:\n",
    "        print(f\"Die Substantivfrequenzen für {sample_name} sind nicht normalverteilt.\")\n",
    "\n",
    "# Durchführung des Tests für beide Subsamples\n",
    "test_normality(noun_ratios_gender['m'], \"Sample M\")\n",
    "test_normality(noun_ratios_gender['w'], \"Sample W\")"
   ]
  },
  {
   "cell_type": "code",
   "execution_count": 4,
   "metadata": {},
   "outputs": [
    {
     "name": "stdout",
     "output_type": "stream",
     "text": [
      "T-statistic: 1.014100668925398\n",
      "p-value: 0.3116096595609459\n"
     ]
    }
   ],
   "source": [
    "import scipy.stats as stats\n",
    "\n",
    "# Perform a t-test to compare the means of the two groups\n",
    "t_stat, p_val = stats.ttest_ind(noun_ratios_gender['m'], noun_ratios_gender['w'])\n",
    "\n",
    "print('T-statistic:', t_stat)\n",
    "print('p-value:', p_val)"
   ]
  },
  {
   "cell_type": "code",
   "execution_count": 5,
   "metadata": {},
   "outputs": [
    {
     "name": "stdout",
     "output_type": "stream",
     "text": [
      "Mann-Whitney U-Statistik: 6941.0\n",
      "p-Wert: 0.2879350603784505\n"
     ]
    }
   ],
   "source": [
    "# Perform the Mann-Whitney-U-Test to compare the distributions\n",
    "u_stat, p_val = stats.mannwhitneyu(noun_ratios_gender['m'], noun_ratios_gender['w'], alternative='two-sided')\n",
    "\n",
    "print('Mann-Whitney U-Statistik:', u_stat)\n",
    "print('p-Wert:', p_val)"
   ]
  },
  {
   "cell_type": "code",
   "execution_count": 6,
   "metadata": {},
   "outputs": [
    {
     "name": "stdout",
     "output_type": "stream",
     "text": [
      "Effektstärke (Cramer's V): 0.7356687957213155\n"
     ]
    }
   ],
   "source": [
    "n1 = len(noun_ratios_gender['m'])\n",
    "n2 = len(noun_ratios_gender['w'])\n",
    "effect_size = np.sqrt(u_stat / (n1 * n2))\n",
    "\n",
    "print(\"Effektstärke (Cramer's V):\", effect_size)"
   ]
  },
  {
   "cell_type": "code",
   "execution_count": 12,
   "metadata": {},
   "outputs": [
    {
     "data": {
      "text/plain": [
       "(array([ 1.,  0.,  0.,  1.,  1.,  0.,  3.,  4.,  4.,  4.,  6.,  6.,  6.,\n",
       "         6., 13.,  9.,  8.,  3.,  4.,  4.,  0.,  3.,  3.,  2.,  0.,  1.,\n",
       "         2.,  0.,  0.,  1.]),\n",
       " array([0.03333333, 0.04625731, 0.05918129, 0.07210526, 0.08502924,\n",
       "        0.09795322, 0.11087719, 0.12380117, 0.13672515, 0.14964912,\n",
       "        0.1625731 , 0.17549708, 0.18842105, 0.20134503, 0.21426901,\n",
       "        0.22719298, 0.24011696, 0.25304094, 0.26596491, 0.27888889,\n",
       "        0.29181287, 0.30473684, 0.31766082, 0.3305848 , 0.34350877,\n",
       "        0.35643275, 0.36935673, 0.3822807 , 0.39520468, 0.40812865,\n",
       "        0.42105263]),\n",
       " <BarContainer object of 30 artists>)"
      ]
     },
     "execution_count": 12,
     "metadata": {},
     "output_type": "execute_result"
    },
    {
     "data": {
      "image/png": "[encoded data removed]",
      "text/plain": [
       "<Figure size 640x480 with 1 Axes>"
      ]
     },
     "metadata": {},
     "output_type": "display_data"
    }
   ],
   "source": [
    "plt.hist(noun_ratios_gender['w'], bins=30)"
   ]
  },
  {
   "cell_type": "code",
   "execution_count": 13,
   "metadata": {},
   "outputs": [
    {
     "data": {
      "text/plain": [
       "(array([ 1.,  0.,  0.,  1.,  1.,  3.,  0.,  1.,  1.,  1.,  8.,  6.,  4.,\n",
       "        11., 14.,  7.,  9.,  7.,  9.,  7.,  5.,  5.,  6.,  7.,  6.,  8.,\n",
       "         2.,  1.,  2.,  2.]),\n",
       " array([0.01369863, 0.0261208 , 0.03854296, 0.05096513, 0.0633873 ,\n",
       "        0.07580946, 0.08823163, 0.1006538 , 0.11307597, 0.12549813,\n",
       "        0.1379203 , 0.15034247, 0.16276463, 0.1751868 , 0.18760897,\n",
       "        0.20003113, 0.2124533 , 0.22487547, 0.23729763, 0.2497198 ,\n",
       "        0.26214197, 0.27456413, 0.2869863 , 0.29940847, 0.31183064,\n",
       "        0.3242528 , 0.33667497, 0.34909714, 0.3615193 , 0.37394147,\n",
       "        0.38636364]),\n",
       " <BarContainer object of 30 artists>)"
      ]
     },
     "execution_count": 13,
     "metadata": {},
     "output_type": "execute_result"
    },
    {
     "data": {
      "image/png": "[encoded data removed]",
      "text/plain": [
       "<Figure size 640x480 with 1 Axes>"
      ]
     },
     "metadata": {},
     "output_type": "display_data"
    }
   ],
   "source": [
    "plt.hist(noun_ratios_gender['m'], bins=30)"
   ]
  },
  {
   "cell_type": "code",
   "execution_count": null,
   "metadata": {},
   "outputs": [],
   "source": []
  }
 ],
 "metadata": {
  "kernelspec": {
   "display_name": "Python 3",
   "language": "python",
   "name": "python3"
  },
  "language_info": {
   "codemirror_mode": {
    "name": "ipython",
    "version": 3
   },
   "file_extension": ".py",
   "mimetype": "text/x-python",
   "name": "python",
   "nbconvert_exporter": "python",
   "pygments_lexer": "ipython3",
   "version": "3.11.4"
  },
  "orig_nbformat": 4
 },
 "nbformat": 4,
 "nbformat_minor": 2
}
