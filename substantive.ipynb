{
 "cells": [
  {
   "cell_type": "code",
   "execution_count": 1,
   "metadata": {},
   "outputs": [],
   "source": [
    "import os\n",
    "import json\n",
    "import spacy\n",
    "from collections import Counter\n",
    "import matplotlib.pyplot as plt\n",
    "import numpy as np\n",
    "import statistics\n",
    "\n",
    "from scipy.stats import ttest_ind, shapiro, mannwhitneyu\n"
   ]
  },
  {
   "cell_type": "code",
   "execution_count": 2,
   "metadata": {},
   "outputs": [
    {
     "name": "stdout",
     "output_type": "stream",
     "text": [
      "Gender: m\n",
      "Overall average relative noun ratio: 0.2289099753045121\n",
      "Median relative noun ratio: 0.2318840579710145\n",
      "Minimum relative noun ratio: 0.0\n",
      "Maximum relative noun ratio: 0.46808510638297873 \n",
      "\n",
      "Gender: w\n",
      "Overall average relative noun ratio: 0.23066545772336672\n",
      "Median relative noun ratio: 0.22847256549678696\n",
      "Minimum relative noun ratio: 0.0\n",
      "Maximum relative noun ratio: 0.625 \n",
      "\n",
      "Gender: m\n",
      "10 most common nouns [('Wort', 238), ('Welt', 207), ('Zeit', 199), ('Licht', 177), ('Nacht', 149), ('Augen', 140), ('Hand', 139), ('Wasser', 134), ('Leben', 133), ('Himmel', 131)]\n",
      "Gender: w\n",
      "10 most common nouns [('Mission', 126), ('Zeit', 95), ('Augen', 82), ('Licht', 81), ('Wasser', 77), ('Nacht', 74), ('Himmel', 74), ('Hand', 68), ('Kopf', 59), ('augen', 58)]\n"
     ]
    }
   ],
   "source": [
    "\n",
    "path = r'corpus_finished_new'\n",
    "\n",
    "# Load German tokenizer, tagger, parser, NER and word vectors\n",
    "nlp = spacy.load('de_core_news_md')\n",
    "\n",
    "# Function to extract nouns from a text\n",
    "def extract_nouns(text):\n",
    "    doc = nlp(text)\n",
    "    return [token.text for token in doc if token.pos_ == 'NOUN']\n",
    "\n",
    "# Initialize data structures\n",
    "nouns_gender = {'m': Counter(), 'w': Counter()}\n",
    "noun_ratios_gender = {'m': [], 'w': []}\n",
    "not_counted = []\n",
    "\n",
    "# Iterate over .json files\n",
    "for filename in os.listdir(path):\n",
    "    if filename.endswith('.json'):\n",
    "        with open(os.path.join(path, filename), 'r', encoding='utf-8') as f:\n",
    "            data = json.load(f)\n",
    "            gender = data['gender']\n",
    "            poem_text = ' '.join(line['text'] for line in data['poem'].values())\n",
    "            nouns = extract_nouns(poem_text)\n",
    "            try:\n",
    "                ratio = len(nouns) / len(poem_text.split())\n",
    "                nouns_gender[gender].update(nouns)\n",
    "                noun_ratios_gender[gender].append(ratio)\n",
    "            except:\n",
    "                not_counted.append(filename)\n",
    "\n",
    "# Calculate average noun ratios for each gender and category\n",
    "average_ratios_gender = {gender: sum(ratios) / len(ratios) for gender, ratios in noun_ratios_gender.items()}\n",
    "\n",
    "all_genders = sorted(list(average_ratios_gender.keys()))\n",
    "\n",
    "\n",
    "# Print the overall, median, minimum and maximum noun ratio for each gender\n",
    "for gender in all_genders:\n",
    "    all_ratios = noun_ratios_gender[gender]\n",
    "    print(f'Gender: {gender}')\n",
    "    print('Overall average relative noun ratio:', sum(all_ratios) / len(all_ratios))\n",
    "    print('Median relative noun ratio:', statistics.median(all_ratios))\n",
    "    print('Minimum relative noun ratio:', min(all_ratios))\n",
    "    print('Maximum relative noun ratio:', max(all_ratios), '\\n')\n",
    "\n",
    "# Print the 10 most common nouns for each gender and selected category\n",
    "for gender in all_genders:\n",
    "    print(f'Gender: {gender}')\n",
    "    print('10 most common nouns', nouns_gender[gender].most_common(10))\n"
   ]
  },
  {
   "cell_type": "code",
   "execution_count": 3,
   "metadata": {},
   "outputs": [
    {
     "name": "stdout",
     "output_type": "stream",
     "text": [
      "Shapiro-Wilk-Test für Sample M:\n",
      "Teststatistik: 0.9937336444854736\n",
      "p-Wert: 7.798521437507588e-06\n",
      "Die Substantivfrequenzen für Sample M sind nicht normalverteilt.\n",
      "Shapiro-Wilk-Test für Sample W:\n",
      "Teststatistik: 0.9830814003944397\n",
      "p-Wert: 3.5839859968689325e-09\n",
      "Die Substantivfrequenzen für Sample W sind nicht normalverteilt.\n"
     ]
    }
   ],
   "source": [
    "# Funktion zum Durchführen des Shapiro-Wilk-Tests und zur Interpretation der Ergebnisse\n",
    "def test_normality(data, sample_name):\n",
    "    stat, p_value = shapiro(data)\n",
    "    alpha = 0.05  # Signifikanzniveau\n",
    "    print(f\"Shapiro-Wilk-Test für {sample_name}:\")\n",
    "    print(\"Teststatistik:\", stat)\n",
    "    print(\"p-Wert:\", p_value)\n",
    "    if p_value > alpha:\n",
    "        print(f\"Die Substantivfrequenzen für {sample_name} sind normalverteilt.\")\n",
    "    else:\n",
    "        print(f\"Die Substantivfrequenzen für {sample_name} sind nicht normalverteilt.\")\n",
    "\n",
    "# Durchführung des Tests für beide Subsamples\n",
    "test_normality(noun_ratios_gender['m'], \"Sample M\")\n",
    "test_normality(noun_ratios_gender['w'], \"Sample W\")"
   ]
  },
  {
   "cell_type": "code",
   "execution_count": 4,
   "metadata": {},
   "outputs": [
    {
     "name": "stdout",
     "output_type": "stream",
     "text": [
      "T-statistic: -0.6228323980043629\n",
      "p-value: 0.5334531824010794\n"
     ]
    }
   ],
   "source": [
    "import scipy.stats as stats\n",
    "\n",
    "# Perform a t-test to compare the means of the two groups\n",
    "t_stat, p_val = stats.ttest_ind(noun_ratios_gender['m'], noun_ratios_gender['w'])\n",
    "\n",
    "print('T-statistic:', t_stat)\n",
    "print('p-value:', p_val)"
   ]
  },
  {
   "cell_type": "code",
   "execution_count": 5,
   "metadata": {},
   "outputs": [
    {
     "name": "stdout",
     "output_type": "stream",
     "text": [
      "Mann-Whitney U-Statistik: 703465.5\n",
      "p-Wert: 0.8063891449140497\n"
     ]
    }
   ],
   "source": [
    "# Perform the Mann-Whitney-U-Test to compare the distributions\n",
    "u_stat, p_val = stats.mannwhitneyu(noun_ratios_gender['m'], noun_ratios_gender['w'], alternative='two-sided')\n",
    "\n",
    "print('Mann-Whitney U-Statistik:', u_stat)\n",
    "print('p-Wert:', p_val)"
   ]
  },
  {
   "cell_type": "code",
   "execution_count": 6,
   "metadata": {},
   "outputs": [
    {
     "name": "stdout",
     "output_type": "stream",
     "text": [
      "Effektstärke (Cramer's V): 0.7050304729235645\n"
     ]
    }
   ],
   "source": [
    "n1 = len(noun_ratios_gender['m'])\n",
    "n2 = len(noun_ratios_gender['w'])\n",
    "effect_size = np.sqrt(u_stat / (n1 * n2))\n",
    "\n",
    "print(\"Effektstärke (Cramer's V):\", effect_size)"
   ]
  },
  {
   "cell_type": "code",
   "execution_count": 7,
   "metadata": {},
   "outputs": [
    {
     "data": {
      "image/png": "[encoded data removed]",
      "text/plain": [
       "<Figure size 640x480 with 1 Axes>"
      ]
     },
     "metadata": {},
     "output_type": "display_data"
    }
   ],
   "source": [
    "# Erstelle eine Figure und Axes-Objekte\n",
    "fig, ax = plt.subplots()\n",
    "\n",
    "# Plotten der Histogramme für beide Subsamples\n",
    "ax.hist(noun_ratios_gender['m'], bins=20, alpha=0.5, label='Sample M', color='blue')\n",
    "ax.hist(noun_ratios_gender['w'], bins=20, alpha=0.5, label='Sample W', color='orange')\n",
    "\n",
    "# Hinzufügen von Labels und Titeln\n",
    "ax.set_xlabel('Anteil')\n",
    "ax.set_ylabel('Menge')\n",
    "ax.set_title('Verteilung der Substantivanteile')\n",
    "\n",
    "# Legende anzeigen\n",
    "ax.legend()\n",
    "\n",
    "# Anzeigen der Grafik\n",
    "plt.show()"
   ]
  },
  {
   "cell_type": "code",
   "execution_count": null,
   "metadata": {},
   "outputs": [],
   "source": []
  }
 ],
 "metadata": {
  "kernelspec": {
   "display_name": "Python 3",
   "language": "python",
   "name": "python3"
  },
  "language_info": {
   "codemirror_mode": {
    "name": "ipython",
    "version": 3
   },
   "file_extension": ".py",
   "mimetype": "text/x-python",
   "name": "python",
   "nbconvert_exporter": "python",
   "pygments_lexer": "ipython3",
   "version": "3.10.4"
  },
  "orig_nbformat": 4
 },
 "nbformat": 4,
 "nbformat_minor": 2
}
