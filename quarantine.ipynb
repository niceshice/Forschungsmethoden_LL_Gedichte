{
 "cells": [
  {
   "cell_type": "code",
   "execution_count": 1,
   "metadata": {},
   "outputs": [
    {
     "name": "stdout",
     "output_type": "stream",
     "text": [
      "The JSON file 'corpus_finished_new' does not exist.\n"
     ]
    }
   ],
   "source": [
    "import os\n",
    "import json\n",
    "import shutil\n",
    "\n",
    "# Define the path to the JSON file\n",
    "json_file_path = \"corpus_finished_new\"\n",
    "\n",
    "# Define the path to the quarantine folder\n",
    "quarantine_folder = \"quarantine\"\n",
    "\n",
    "# Check if the JSON file exists\n",
    "if os.path.exists(json_file_path):\n",
    "    # Open and load the JSON data\n",
    "    with open(json_file_path, \"r\", encoding=\"utf-8\") as json_file:\n",
    "        data = json.load(json_file)\n",
    "\n",
    "    # Check if the \"poem\" field is empty\n",
    "    if \"poem\" not in data or not data[\"poem\"]:\n",
    "        # Move the JSON file to the quarantine folder\n",
    "        file_name = os.path.basename(json_file_path)\n",
    "        new_file_path = os.path.join(quarantine_folder, file_name)\n",
    "\n",
    "        # Create the quarantine folder if it doesn't exist\n",
    "        if not os.path.exists(quarantine_folder):\n",
    "            os.makedirs(quarantine_folder)\n",
    "\n",
    "        # Move the JSON file to the quarantine folder\n",
    "        shutil.move(json_file_path, new_file_path)\n",
    "\n",
    "        print(f\"Moved '{file_name}' to the quarantine folder because the 'poem' field is empty.\")\n",
    "    else:\n",
    "        print(\"The 'poem' field is not empty.\")\n",
    "else:\n",
    "    print(f\"The JSON file '{json_file_path}' does not exist.\")"
   ]
  },
  {
   "cell_type": "code",
   "execution_count": null,
   "metadata": {},
   "outputs": [],
   "source": []
  }
 ],
 "metadata": {
  "kernelspec": {
   "display_name": "Python 3",
   "language": "python",
   "name": "python3"
  },
  "language_info": {
   "codemirror_mode": {
    "name": "ipython",
    "version": 3
   },
   "file_extension": ".py",
   "mimetype": "text/x-python",
   "name": "python",
   "nbconvert_exporter": "python",
   "pygments_lexer": "ipython3",
   "version": "3.10.4"
  },
  "orig_nbformat": 4
 },
 "nbformat": 4,
 "nbformat_minor": 2
}
