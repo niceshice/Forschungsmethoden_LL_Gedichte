{
 "cells": [
  {
   "cell_type": "code",
   "execution_count": 1,
   "metadata": {},
   "outputs": [],
   "source": [
    "import requests\n",
    "from bs4 import BeautifulSoup\n",
    "import json\n",
    "import os\n",
    "from tqdm import tqdm\n",
    "import time\n",
    "import re"
   ]
  },
  {
   "cell_type": "code",
   "execution_count": 2,
   "metadata": {},
   "outputs": [],
   "source": [
    "from selenium import webdriver\n",
    "from selenium.webdriver.firefox.service import Service\n",
    "from selenium.webdriver.common.by import By\n",
    "from selenium.webdriver.firefox.options import Options"
   ]
  },
  {
   "cell_type": "code",
   "execution_count": 3,
   "metadata": {},
   "outputs": [],
   "source": [
    "def scrape_poem_links(url, site:int):\n",
    "    \n",
    "    # Set up Firefox options\n",
    "    firefox_options = Options()\n",
    "    firefox_options.add_argument(\"-headless\")\n",
    "\n",
    "    # Set up Firefox service\n",
    "    webdriver_service = Service('geckodriver.exe')\n",
    "\n",
    "    # Create a new instance of the Firefox driver\n",
    "    driver = webdriver.Firefox(options=firefox_options)\n",
    "\n",
    "    # Load the webpage\n",
    "    driver.get(url)\n",
    "\n",
    "    # Wait for the dynamic content to load (you may need to adjust the waiting time based on the page)\n",
    "    driver.implicitly_wait(5)\n",
    "\n",
    "    \n",
    "    # Get the page source after the content is loaded\n",
    "    for i in range(site):\n",
    "        try:\n",
    "            next_button = driver.find_element(By.XPATH, '//a//span[contains(text(), \"nächste\")]')\n",
    "            print(next_button)\n",
    "            next_button.click()\n",
    "            time.sleep(5)  # Wait for additional content to load\n",
    "        except:\n",
    "            break\n",
    "    page_source = driver.page_source\n",
    "\n",
    "    # Close the browser\n",
    "    driver.quit()\n",
    "\n",
    "    # Process the page source with BeautifulSoup\n",
    "    soup = BeautifulSoup(page_source, 'html.parser')\n",
    "\n",
    "    # Find and extract the desired elements using BeautifulSoup\n",
    "    # Example: Get the titles of the poems\n",
    "    poem_links = []\n",
    "    link_elements = soup.find_all('a', class_='row')\n",
    "    \n",
    "    for link in link_elements:\n",
    "        href = link.get('href')\n",
    "        poem_links.append(href)\n",
    "    \n",
    "    return poem_links"
   ]
  },
  {
   "cell_type": "code",
   "execution_count": 4,
   "metadata": {},
   "outputs": [],
   "source": [
    "def scrape_poem(url, title, gender):\n",
    "    response = requests.get(url)\n",
    "    soup = BeautifulSoup(response.content, 'html.parser')\n",
    "    \n",
    "    poem_div = soup.find('div', class_='gedicht-originaltext clearfix')\n",
    "    poem_lines = [line.strip() for line in poem_div.stripped_strings]\n",
    "    \n",
    "    author_h1 = soup.find('h1', id='gedicht-autor')\n",
    "    author_name = author_h1.find('a').text.strip() if author_h1 else ''\n",
    "\n",
    "    categories_table = soup.find('table', class_='kat')\n",
    "    categories_links = categories_table.find_all('a')\n",
    "    categories = [link.text.strip() for link in categories_links]\n",
    "    \n",
    "    poem_data = {\n",
    "        'title': title,\n",
    "        'categories': categories,\n",
    "        'gender': gender,\n",
    "        'author': author_name,\n",
    "        'poem': {}\n",
    "    }\n",
    "    \n",
    "    for idx, line in enumerate(poem_lines, start=1):\n",
    "\n",
    "        filtered_line = re.sub(r'[^\\x00-\\x7FäöüÄÖÜß]+', '', line)\n",
    "        filtered_line = filtered_line.strip()\n",
    "\n",
    "        poem_data['poem'][f'line.{idx}'] = {'text': filtered_line}\n",
    "    \n",
    "    return poem_data\n",
    "\n",
    "\n",
    "def save_to_json(poem_data, file_name):\n",
    "    with open(file_name, 'w', encoding='utf-8') as file:\n",
    "        json.dump(poem_data, file, indent=4, ensure_ascii=False)\n"
   ]
  },
  {
   "cell_type": "code",
   "execution_count": 6,
   "metadata": {},
   "outputs": [
    {
     "name": "stdout",
     "output_type": "stream",
     "text": [
      "<selenium.webdriver.firefox.webelement.FirefoxWebElement (session=\"d9794976-0277-4c4d-a260-98b6acbbd0c0\", element=\"af46de62-682e-4cbc-908e-ab78c3b0603a\")>\n",
      "<selenium.webdriver.firefox.webelement.FirefoxWebElement (session=\"d1dbedb9-cfce-416f-9718-6d6bc2da9411\", element=\"3e329b9d-1f42-40f2-927c-5e39ee79ee23\")>\n",
      "<selenium.webdriver.firefox.webelement.FirefoxWebElement (session=\"d1dbedb9-cfce-416f-9718-6d6bc2da9411\", element=\"7ab545ed-b709-462d-a4cd-28afae35d20a\")>\n"
     ]
    }
   ],
   "source": [
    "# Create a \"corpus\" folder if it doesn't exist\n",
    "corpus_folder = f'corpus_finished'\n",
    "os.makedirs(corpus_folder, exist_ok=True)\n",
    "\n",
    "# Define the gender, category, and site combinations\n",
    "combinations = [\n",
    "    ('m', 66, 4),\n",
    "    ('w', 66, 3),\n",
    "    ('m', 29, 4),\n",
    "    ('w', 29, 3)\n",
    "]\n",
    "\n",
    "# Scrape poem links and save poems for each combination\n",
    "for gender, category, sites in combinations:\n",
    "    url = f'https://www.lyrikline.org/de/gedichte?query=&onlynewoff=&lang[]=de&translatorname=999999&category[]={category}&geschlecht[]={gender}'\n",
    "    poem_links =[]\n",
    "    for s in range(sites):\n",
    "        poem_links += scrape_poem_links(url, s)\n",
    "\n",
    "    # Scrape and save the poems\n",
    "    for link in tqdm(poem_links, desc=f'Scraping poems for {gender}, {category}', unit='poem'):\n",
    "        title = link.split('/')[-1]\n",
    "        poem_url = f'https://www.lyrikline.org{link}'\n",
    "        poem_data = scrape_poem(poem_url, title, gender)\n",
    "        file_name = os.path.join(corpus_folder, f'{title}.json')\n",
    "        save_to_json(poem_data, file_name)\n"
   ]
  },
  {
   "cell_type": "code",
   "execution_count": 9,
   "metadata": {},
   "outputs": [
    {
     "data": {
      "text/plain": [
       "['/de/gedichte/maervent-oiosis-11952',\n",
       " '/de/gedichte/alles-was-wir-tun-ist-musik-john-cage-13426',\n",
       " '/de/gedichte/als-belgien-furchtbar-war-13241',\n",
       " '/de/gedichte/den-nachtblauen-falter-15511',\n",
       " '/de/gedichte/der-donau-2616',\n",
       " '/de/gedichte/anatomie-der-erinnerung-14148',\n",
       " '/de/gedichte/angeln-vor-oland-15602',\n",
       " '/de/gedichte/aus-den-notizen-zu-einem-selbstbildnis-13237',\n",
       " '/de/gedichte/bei-uns-zuhaus-679',\n",
       " '/de/gedichte/das-weltall-ist-ein-grosser-wald-dem-die-angst-keine-ohren-hat-13424',\n",
       " '/de/gedichte/der-pollenflug-15513',\n",
       " '/de/gedichte/der-schiffsbaumeister-10090',\n",
       " '/de/gedichte/der-stille-grund-11236',\n",
       " '/de/gedichte/der-zettel-11681',\n",
       " '/de/gedichte/die-horizontbaeume-752',\n",
       " '/de/gedichte/die-maulwuerfe-14378',\n",
       " '/de/gedichte/doch-deine-augen-halten-fest-11240',\n",
       " '/de/gedichte/drei-schwestern-10078',\n",
       " '/de/gedichte/du-bist-eine-lilie-15524',\n",
       " '/de/gedichte/echo-11237',\n",
       " '/de/gedichte/maervent-oiosis-11952',\n",
       " '/de/gedichte/alles-was-wir-tun-ist-musik-john-cage-13426',\n",
       " '/de/gedichte/als-belgien-furchtbar-war-13241',\n",
       " '/de/gedichte/den-nachtblauen-falter-15511',\n",
       " '/de/gedichte/der-donau-2616',\n",
       " '/de/gedichte/anatomie-der-erinnerung-14148',\n",
       " '/de/gedichte/angeln-vor-oland-15602',\n",
       " '/de/gedichte/aus-den-notizen-zu-einem-selbstbildnis-13237',\n",
       " '/de/gedichte/bei-uns-zuhaus-679',\n",
       " '/de/gedichte/das-weltall-ist-ein-grosser-wald-dem-die-angst-keine-ohren-hat-13424',\n",
       " '/de/gedichte/der-pollenflug-15513',\n",
       " '/de/gedichte/der-schiffsbaumeister-10090',\n",
       " '/de/gedichte/der-stille-grund-11236',\n",
       " '/de/gedichte/der-zettel-11681',\n",
       " '/de/gedichte/die-horizontbaeume-752',\n",
       " '/de/gedichte/die-maulwuerfe-14378',\n",
       " '/de/gedichte/doch-deine-augen-halten-fest-11240',\n",
       " '/de/gedichte/drei-schwestern-10078',\n",
       " '/de/gedichte/du-bist-eine-lilie-15524',\n",
       " '/de/gedichte/echo-11237']"
      ]
     },
     "execution_count": 9,
     "metadata": {},
     "output_type": "execute_result"
    }
   ],
   "source": [
   ]
  },
  {
   "cell_type": "code",
   "execution_count": null,
   "metadata": {},
   "outputs": [],
   "source": []
  }
 ],
 "metadata": {
  "kernelspec": {
   "display_name": "Python 3",
   "language": "python",
   "name": "python3"
  },
  "language_info": {
   "codemirror_mode": {
    "name": "ipython",
    "version": 3
   },
   "file_extension": ".py",
   "mimetype": "text/x-python",
   "name": "python",
   "nbconvert_exporter": "python",
   "pygments_lexer": "ipython3",
   "version": "3.11.4"
  }
 },
 "nbformat": 4,
 "nbformat_minor": 4
}
