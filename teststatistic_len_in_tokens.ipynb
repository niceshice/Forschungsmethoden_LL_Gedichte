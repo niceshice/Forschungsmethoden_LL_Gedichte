{
 "cells": [
  {
   "cell_type": "markdown",
   "id": "6783f19e",
   "metadata": {},
   "source": [
    "## Probeweise Durchführung einer Teststatistik für Gesamtlängen in Tokens pro Gedicht"
   ]
  },
  {
   "cell_type": "markdown",
   "id": "69b32e80",
   "metadata": {},
   "source": [
    "1. Hypothesen\n",
    "- **Nullhypothese (H0)**: Es gibt zwischen den beiden Subsamples (M/W) **keinen signifikanten Unterschied** in der Gesamtlänge der Gedichte in Tokens.\n",
    "- **Alternativhypothese (H1)**: Es gibt zwischen den beiden Subsamples (M/W) **einen signifikanten Unterschied** in der Gesamtlänge der Gedichte in Tokens.\n",
    "    - &rarr; \"Männer schreiben längere Gedichte (= mit mehr Wörtern) als Frauen. Frauen schreiben im Verlgeich zu Männern kürzere Gedichte.\""
   ]
  },
  {
   "cell_type": "code",
   "execution_count": 1,
   "id": "ca2b3b84",
   "metadata": {},
   "outputs": [],
   "source": [
    "import os\n",
    "import json\n",
    "import nltk\n",
    "import statistics\n",
    "import numpy as np\n",
    "import matplotlib.pyplot as plt\n",
    "import seaborn as sns\n",
    "from nltk.tokenize import word_tokenize\n",
    "from scipy.stats import ttest_ind, shapiro, mannwhitneyu"
   ]
  },
  {
   "cell_type": "markdown",
   "id": "8c659180",
   "metadata": {},
   "source": [
    "2. Daten vorbereiten\n",
    "\n",
    "Für jedes Teilkorpus:\n",
    "- Dictionary mit Gedichttitel als Key\n",
    "- und Anzahl der Tokens im Gedicht"
   ]
  },
  {
   "cell_type": "code",
   "execution_count": 2,
   "id": "831718ed",
   "metadata": {},
   "outputs": [],
   "source": [
    "# Funktion zum Zählen der Tokens in einem Gedichtstext\n",
    "def count_tokens(poem_text):\n",
    "    return len(word_tokenize(poem_text))\n",
    "\n",
    "def tokens_per_poem(folder_path: str):\n",
    "    # Dictionary zur Speicherung der Ergebnisse\n",
    "    poem_lenghts = {}\n",
    "    # Durchlaufe die JSON-Dateien im Ordner\n",
    "    for filename in os.listdir(folder_path):\n",
    "        if filename.endswith('.json'):\n",
    "            file_path = os.path.join(folder_path, filename)\n",
    "            with open(file_path, 'r') as file:\n",
    "                poem_data = json.load(file)\n",
    "                # Extrahiere den Gedichtstext aus der json-Datei\n",
    "                poem_lines = [line_data['text'] for line_data in poem_data['poem'].values()]\n",
    "                poem_text = ' '.join(poem_lines)\n",
    "                # Zähle die Tokens im Gedichtstext\n",
    "                num_tokens = count_tokens(poem_text)\n",
    "                # Füge das Ergebnis zum Dictionary hinzu\n",
    "                poem_lenghts[poem_data['title']] = num_tokens          \n",
    "    return poem_lenghts"
   ]
  },
  {
   "cell_type": "code",
   "execution_count": 3,
   "id": "e1c0c258",
   "metadata": {},
   "outputs": [
    {
     "name": "stdout",
     "output_type": "stream",
     "text": [
      "{'teiresias-2570': 78, 'gehoeft-11241': 93, 'real-life-14343': 124, 'die-schlafkammer-des-lkw-fahrers-und-sein-poesiealbum-16429': 453, 'nach-dem-loop-leben-7422': 161, 'die-kleinste-armee-15134': 59, 'trostlied-im-konjunktiv-14383': 159, 'hauptbahnhof-frankfurt-am-main-iii-12362': 107, 'meine-gespenstische-geliehene-353': 41, 'tierleben-10-4019': 65, 'als-statussymbol-16201': 256, 'aber-wir-werden-durch-den-abend-11566': 39, 'der-stille-grund-11236': 225, 'mit-sieben-augen-aufgewacht-und-keines-sieht-15222': 222, 'elementares-gedicht-2-12336': 118, 'halbfertige-zeichnung-13899': 103, 'oh-doerflichkeit-veraenderung-14337': 85, 'herde-der-rede-v-381': 258, 'als-belgien-furchtbar-war-13241': 101, 'neumen-unwelt-korollar': 158, 'mombasa-island-zweiter-juli-meine-liebste-12010': 499, 'dran-glauben-7425': 219, 'den-nachtblauen-falter-15511': 122, 'aus-dem-halbkreis-der-gefuehle-14347': 144, 'ausschreibung-zum-familienfest-13207': 659, 'dein-lippenflimmern-3373': 86, 'haengende-gaerten-15522': 296, 'die-maulwuerfe-14378': 461, 'was-geschieht-wenn-steine-schmelzen-wollen-15220': 115, 'wolkenformeln-13978': 545, 'den-landschaften-3178': 93, 'eine-pralinenschachtel-voller-spaeziergange-290': 37, '125-episoden-imonki-16200': 652, 'spuk-im-hochhaus-14204': 127, 'schnaell-11684': 57, 'koennten-sie-es-kuerzer-sagen-652': 14, 'bei-uns-zuhaus-679': 43, 'hilde-ist-bestimmt-gar-nicht-nach-bonn-gefahren-12008': 245, 'anatomie-der-erinnerung-14148': 172, 'kara-burun-verlassenes-dorf-5665': 63, 'der-besuch-der-schwiegermutter-11238': 109, 'mittagsschlaf-13240': 65, 'gartenweg-5380': 266, 'ballhalten-12755': 165, 'mystical-wife-11833': 79, 'geister-13898': 138, 'der-schiffsbaumeister-10090': 488, 'einen-vorgeborenen-13206': 136, 'fernab-der-stadt-3692': 55, 'das-schwarzbuch-die-farbfotos-iv-pack-deine-brocken-ein-12491': 69, 'der-donau-2616': 47, 'sachliche-romanze-14375': 135, 'zwischenbilanz-12762': 55, 'mein-prinz-ich-bin-das-ghetto-16426': 418, 'es-immer-wieder-gelingt-es-2921': 73, 'ein-ersatzlabyrinth-351': 48, 'vom-richtigen-gebrauch-der-zeit-11679': 38, 'uebungen-11838': 161, 'tag-im-park-10661': 239, 'eine-nacht-herbeigeschrieben-12347': 85, 'halloweenkrabben-15641': 172, 'ueber-die-erden-653': 329, 'alp-11834': 58, 'stiller-besuch-14376': 217, 'echo-11237': 30, 'moeglichkeiten-der-zusammenkunft-11835': 176, 'als-die-pferde-ungebunden-auf-den-wiesen-lebten-weideten-sie-das-gras-und-tranken-sie-wasser-13423': 112, 'koenigreich-der-verwaisten-bienenstoecke-15217': 213, 'das-weltall-ist-ein-grosser-wald-dem-die-angst-keine-ohren-hat-13424': 180, 'mathilde-aber-eingerahmt-14374': 260, 'wolfgangsee-15648': 358, 'expedition-10074': 51, 'jubilaeum-13202': 44, 'standprobe-14801': 118, 'lamour-spirituelle-5693': 121, 'buch-der-unruhe-5667': 43, 'wolken-12342': 162, 'naturgedicht-3016': 457, 'der-postbote-15531': 150, 'un-ueber-beat-bar-12368': 200, 'ode-auf-die-gemeine-klette-und-george-de-mestral-den-erfinder-des-klettverschlusses-15601': 243, 'der-zettel-11681': 44, 'das-gras-14420': 228, 'meine-liebste-gemahlin-hoffentlich-wird-es-heute-morgen-12009': 406, 'ich-bin-kein-elitepartner-12366': 255, 'elementares-gedicht-5-12339': 125, 'bildnis-einer-alten-dame-auf-einer-parkbank-sitzend-13896': 64, 'doch-deine-augen-halten-fest-11240': 162, 'angeln-vor-oland-15602': 274, 'sonette-bei-den-brombeeren-9-15534': 128, 'die-stille-von-schnee-12359': 198, 'silvae-gelichtet-4020': 77, 'kochanie-rocks-12365': 104, 'der-pollenflug-15513': 83, 'cyberschlafstoerung-12367': 164, 'erntedank-10656': 153, 'kleine-unruhe-13979': 273, 'alles-was-wir-tun-ist-musik-john-cage-13426': 101, 'erfuellung-11583': 17, 'alter-mann-mit-wolken-13894': 142, 'mittelwelle-12346': 55, 'aus-den-notizen-zu-einem-selbstbildnis-13237': 120, 'drei-schwestern-10078': 100, 'wo-genau-liegt-hartspann-12489': 211, 'ballade-von-der-unzulaenglichkeit-menschlichen-planens-770': 179, 'die-weissagung-wird-sich-bewahrheiten-15223': 124, 'solaruhren-11680': 35, 'auf-halbem-weg-10077': 61, 'wyoming-13239': 155, 'sahst-du-aleppo-noch-15643': 125, 'die-horizontbaeume-752': 53, 'der-synthetische-mensch-14382': 369, 'junge-junge-junge-1424': 57, 'mittag-auf-der-wanderduene-13983': 59, 'sonette-bei-den-brombeeren-1-15533': 126, 'sonar-15518': 141, 'ende-gut-frage-802': 491, 'tierleben-0-4009': 84, 'svalbard-paem-15118': 1708, 'ignatia-13-12641': 166, 'im-verlauf-des-folgenden-jahres-verbrachte-er-einige-wochen-im-haus-der-fallenden-persimonen-13422': 127, 'horizontbetrachter-3177': 44, 'wasser-und-feuer-68': 228, 'so-weiss-war-der-morgen-so-15604': 26, 'zersprengte-neuigkeiten-14345': 136, 'du-bist-eine-lilie-15524': 137, 'mantra-14139': 391, 'schatzkarte-10658': 436, 'maervent-oiosis-11952': 252, 'wald-vogel-6046': 205, 'hinterland-i-iv-3381': 606, 'kiarostami-13981': 50, 'kein-komma-kein-punkt-darf-brennen-14800': 120, 'zwangsmittel-12267': 196, 'es-muss-nochmals-darauf-hingewiesen-werden-14213': 127}\n"
     ]
    }
   ],
   "source": [
    "poems_and_lengths_m = tokens_per_poem('corpus_selenium_m')\n",
    "print(poems_and_lengths_m)"
   ]
  },
  {
   "cell_type": "code",
   "execution_count": 4,
   "id": "70b5400b",
   "metadata": {},
   "outputs": [
    {
     "name": "stdout",
     "output_type": "stream",
     "text": [
      "{'jetzt-da-die-letzten-bilder-verschwunden-sind-14895': 105, 'aus-duengerkind-i-15421': 834, 'kaskade-des-gluecks-12653': 209, 'bukowina-i-545': 40, 'uraniafalter-13623': 245, 'nichts-12405': 59, 'so-augenweide-achsen-doch-als-springe-und-trete-man-rueckwaerts-15456': 105, 'vorhersehbar-infiziert-11022': 132, 'muede-wie-ich-12403': 98, 'grabende-13886': 69, 'balance-balance-1520': 68, 'hibiskus-14762': 168, 'brief-im-april-15724': 113, 'es-strahlt-ab-wie-eine-waerme-15424': 103, 'so-augenweide-achsen-als-stuende-man-am-franzoesischen-fenster-15452': 107, 'donauwuerfel-vierter-wuerfel-15111': 734, 'noch-bist-du-da-555': 48, 'loechrig-mein-speicher-14543': 11, 'donauwuerfel-erster-wuerfel-15110': 772, 'wildern-13889': 61, 'so-augenweide-achsen-man-trippelt-zu-weit-nach-links-15455': 116, 'sein-fliegen-liegt-nicht-der-anatomie-11916': 108, 'auszaehlreime-1420': 75, 'prism-10803': 231, 'wir-leben-wir-sind-fuer-alles-12652': 113, 'im-atemhaus-554': 29, 'rechenaufgabe-unter-traenen-1416': 68, 'sternengeschichte-450': 162, 'umzug-11982': 72, 'der-schaefer-strickte-13928': 216, 'donauwuerfel-zehnter-wuerfel-15112': 726, 'wald-16352': 24, 'wanderlust-14766': 138, 'postkarte-15723': 156, 'wolken-12397': 111, 'beim-durchblaettern-dieser-bewerbung-14894': 140, 'proem-auf-den-aenderungsschneider-aslan-gueltekin-63': 82, 'anbruch-13884': 91, 'kinderheim-1-13403': 104, 'am-fenster-abends': 53, 'ich-weiss-nicht-wie-14545': 18, 'territorium-13893': 62, 'eine-landschaft-die-daliegt-11926': 123, 'wo-mag-denn-nur-mein-christian-sein-14760': 219, 'vor-jahren-fiel-es-mir-schwer-das-licht-im-bett-auszuknipsen-15423': 350, 'alemannische-mangos-15731': 159, 'ich-ging-schuhen-aus-glas-14897': 92, 'weltraum-13890': 112, 'kleine-eloge-der-zaertlichkeit-13245': 206, 'die-metaphorische-logik-einer-verbindung-11651': 188, 'war-himmel-5648': 77, 'kinderheim-5-13408': 98, 'erdaepfel-13885': 38, 'und-ueberall-koennen-wir-singen-15721': 108, 'aus-meinem-arbeitsbericht-ich-stellte-keine-fragen-14900': 176, 'eigentlich-1415': 44, 'kuenstliche-landschaften-5-7654': 99, 'versuch-einer-heimatbestimmung-13246': 105, 'felder-offen-fuer-jedes-licht-15198': 61, 'kleine-auseinandersetzung-1583': 171, 'den-pausen-zwischen-den-baeumen-schnee-437': 65, 'ohne-ueberschrift-1581': 258, 'gedicht-386': 54, 'kamerafahrt-ein-anderes-jahrhundert-14892': 139, 'wind-teheran-13243': 94, 'planetarium-15196': 71, 'du-heller-herbst-14765': 188, 'wir-bleiben-noch-das-abendlicht-15201': 118, 'exodon-paradoxus-zweitupfen-raubsammler-15347': 81, 'tod-durch-beschreibung-14049': 503, 'orangenmarmelade-14759': 150, 'antarktika-15729': 135, 'teich-1840': 108, 'so-augenweide-achsen-dann-eilt-bei-jedem-tritt-ein-klick-klack-15457': 111, 'die-blumen-des-boesen-12398': 77, 'nachthonig-13569': 35, 'good-night-6059': 70, 'benanntes-gefilde-14636': 111, 'unter-dem-wacholder-12399': 400, 'musik-von-sanften-motoren-11590': 111, 'die-mittagsstunde-12395': 101, 'im-brennglas-13934': 157, 'kinderheim-_-13402': 107, 'melaten-14763': 125, 'nacht-14534': 67, 'dies-ist-das-paradies-15722': 83, 'einander-verweisende-weisen-13932': 59, 'kleines-glueckwunschgedicht-1414': 84, 'das-gezweig-bin-ich-11586': 131, 'hab-acht-11593': 96, 'stunde-null-loop-12649': 48, 'der-wasserwolf-13929': 164, 'morgenschauer-12400': 145, 'aus-duengerkind-ii-15422': 80, 'reise-zum-mond-12396': 129, 'was-zwischen-den-graesern-verloren-ging-15718': 78}\n"
     ]
    }
   ],
   "source": [
    "poems_and_lengths_w = tokens_per_poem('corpus_selenium_w')\n",
    "print(poems_and_lengths_w)"
   ]
  },
  {
   "cell_type": "markdown",
   "id": "b61b5f77",
   "metadata": {},
   "source": [
    "3. Deskriptive Statistik\n",
    "- Durchschnitt (Mittelwert)\n",
    "- Standardabweichung der Verslängen für jedes Subsample"
   ]
  },
  {
   "cell_type": "code",
   "execution_count": 10,
   "id": "67fe0a71",
   "metadata": {},
   "outputs": [
    {
     "name": "stdout",
     "output_type": "stream",
     "text": [
      "Durchschnittliche Gedichtlänge Männer: 182.33333333333334\n",
      "Durchschnittliche Gedichtlänge Frauen: 145.15625\n",
      "Standardabweichung der Gedichtlänge Männer: 189.78923895700882\n",
      "Standardabweichung der Gedichtlänge Frauen: 150.50366864736483\n"
     ]
    }
   ],
   "source": [
    "def calculate_statistics(poem_lengths):\n",
    "    # Berechnung des Durchschnitts (Mittelwert)\n",
    "    average = statistics.mean(poem_lengths)\n",
    "    \n",
    "    # Berechnung der Standardabweichung\n",
    "    std_deviation = statistics.stdev(poem_lengths)\n",
    "    \n",
    "    return average, std_deviation\n",
    "\n",
    "# Extrahiere die Gedichtlängen aus dem Dictionary\n",
    "poem_lengths_m = list(poems_and_lengths_m.values())\n",
    "poem_lengths_w = list(poems_and_lengths_w.values())\n",
    "\n",
    "# Berechne Durchschnitt und Standardabweichung\n",
    "average_length_m, std_dev_m = calculate_statistics(poem_lengths_m)\n",
    "average_length_w, std_dev_w = calculate_statistics(poem_lengths_w)\n",
    "\n",
    "# Ausgabe der Ergebnisse\n",
    "print(\"Durchschnittliche Gedichtlänge Männer:\", average_length_m)\n",
    "print(\"Durchschnittliche Gedichtlänge Frauen:\", average_length_w)\n",
    "print(\"Standardabweichung der Gedichtlänge Männer:\", std_dev_m)\n",
    "print(\"Standardabweichung der Gedichtlänge Frauen:\", std_dev_w)"
   ]
  },
  {
   "cell_type": "markdown",
   "id": "558bef66",
   "metadata": {},
   "source": [
    "4. Statistischer Test\n",
    "\n",
    "## Teststatistik: t-Test?\n",
    "Vorausssetzung ist Normalverteilung, also Normalverteilung der Tokenfrequency testen:"
   ]
  },
  {
   "cell_type": "code",
   "execution_count": 7,
   "id": "598c4979",
   "metadata": {},
   "outputs": [
    {
     "name": "stdout",
     "output_type": "stream",
     "text": [
      "Shapiro-Wilk-Test für Sample M:\n",
      "Teststatistik: 0.634445309638977\n",
      "p-Wert: 7.774181548207766e-17\n",
      "Die Tokenfrequenzen für Sample M sind nicht normalverteilt.\n",
      "Shapiro-Wilk-Test für Sample W:\n",
      "Teststatistik: 0.5915873050689697\n",
      "p-Wert: 6.208495275907477e-15\n",
      "Die Tokenfrequenzen für Sample W sind nicht normalverteilt.\n"
     ]
    }
   ],
   "source": [
    "# Funktion zum Durchführen des Shapiro-Wilk-Tests und zur Interpretation der Ergebnisse\n",
    "def test_normality(data, sample_name):\n",
    "    stat, p_value = shapiro(data)\n",
    "    alpha = 0.05  # Signifikanzniveau\n",
    "    print(f\"Shapiro-Wilk-Test für {sample_name}:\")\n",
    "    print(\"Teststatistik:\", stat)\n",
    "    print(\"p-Wert:\", p_value)\n",
    "    if p_value > alpha:\n",
    "        print(f\"Die Tokenfrequenzen für {sample_name} sind normalverteilt.\")\n",
    "    else:\n",
    "        print(f\"Die Tokenfrequenzen für {sample_name} sind nicht normalverteilt.\")\n",
    "\n",
    "# Durchführung des Tests für beide Subsamples\n",
    "test_normality(poem_lengths_m, \"Sample M\")\n",
    "test_normality(poem_lengths_w, \"Sample W\")"
   ]
  },
  {
   "cell_type": "markdown",
   "id": "5d1cd5c1",
   "metadata": {},
   "source": [
    "&rarr; keine Normalverteilung, also anderer Test, nicht t-Test?"
   ]
  },
  {
   "cell_type": "code",
   "execution_count": 21,
   "id": "e9ba89e3",
   "metadata": {},
   "outputs": [
    {
     "data": {
      "image/png": "[encoded data removed]",
      "text/plain": [
       "<Figure size 576x432 with 1 Axes>"
      ]
     },
     "metadata": {
      "needs_background": "light"
     },
     "output_type": "display_data"
    },
    {
     "data": {
      "image/png": "[encoded data removed]",
      "text/plain": [
       "<Figure size 576x432 with 1 Axes>"
      ]
     },
     "metadata": {
      "needs_background": "light"
     },
     "output_type": "display_data"
    },
    {
     "data": {
      "image/png": "[encoded data removed]",
      "text/plain": [
       "<Figure size 576x432 with 1 Axes>"
      ]
     },
     "metadata": {
      "needs_background": "light"
     },
     "output_type": "display_data"
    },
    {
     "data": {
      "image/png": "[encoded data removed]",
      "text/plain": [
       "<Figure size 576x432 with 1 Axes>"
      ]
     },
     "metadata": {
      "needs_background": "light"
     },
     "output_type": "display_data"
    }
   ],
   "source": [
    "# Histogramm für Subsample M\n",
    "plt.figure(figsize=(8, 6))\n",
    "sns.histplot(poem_lengths_m, kde=False, color='blue', bins=10)\n",
    "plt.title('Histogramm für Subsample M')\n",
    "plt.xlabel('Tokens pro Gedicht')\n",
    "plt.ylabel('Häufigkeit')\n",
    "plt.show()\n",
    "\n",
    "# Histogramm für Subsample W\n",
    "plt.figure(figsize=(8, 6))\n",
    "sns.histplot(poem_lengths_w, kde=False, color='orange', bins=10)\n",
    "plt.title('Histogramm für Subsample W')\n",
    "plt.xlabel('Tokens pro Gedicht')\n",
    "plt.ylabel('Häufigkeit')\n",
    "plt.show()\n",
    "\n",
    "# Kernel Density Plot für Subsample M\n",
    "plt.figure(figsize=(8, 6))\n",
    "sns.kdeplot(poem_lengths_m, color='blue')\n",
    "plt.title('Kernel Density Plot für Subsample M')\n",
    "plt.xlabel('Tokens pro Gedicht')\n",
    "plt.ylabel('Dichte')\n",
    "plt.show()\n",
    "\n",
    "# Kernel Density Plot für Subsample W\n",
    "plt.figure(figsize=(8, 6))\n",
    "sns.kdeplot(poem_lengths_w, color='orange')\n",
    "plt.title('Kernel Density Plot für Subsample W')\n",
    "plt.xlabel('Tokens pro Gedicht')\n",
    "plt.ylabel('Dichte')\n",
    "plt.show()"
   ]
  },
  {
   "cell_type": "markdown",
   "id": "8e11820c",
   "metadata": {},
   "source": [
    "&rarr; keine Normalverteilung, also anderer Test, nicht t-Test"
   ]
  },
  {
   "cell_type": "markdown",
   "id": "8e0db400",
   "metadata": {},
   "source": [
    "## Versuch: t-Test"
   ]
  },
  {
   "cell_type": "code",
   "execution_count": 16,
   "id": "c81d942d",
   "metadata": {},
   "outputs": [
    {
     "name": "stdout",
     "output_type": "stream",
     "text": [
      "Ergebnisse des t-Tests:\n",
      "t-Statistik: 1.5951696828207642\n",
      "p-Wert: 0.11205343298834342\n",
      "Freiheitsgrad: 229\n",
      "Effektstärke (Cohen's d): 0.21296605015925074\n",
      "Es gibt keinen signifikanten Unterschied zwischen den Subsamples.\n",
      "(t(229) = 1.595, p > 0.05)\n"
     ]
    }
   ],
   "source": [
    "# Signifikanztest (t-Test)\n",
    "t_statistic, p_value = ttest_ind(poem_lengths_m, poem_lengths_w)\n",
    "\n",
    "# Berechne die Degrees of Freedom (Freiheitsgrade)\n",
    "# Degrees of Freedom = (Anzahl der Beobachtungen in Sample 1) + (Anzahl der Beobachtungen in Sample 2) - 2\n",
    "sample_size_m = len(poem_lengths_m)\n",
    "sample_size_w = len(poem_lengths_w)\n",
    "degrees_of_freedom = sample_size_m + sample_size_w - 2\n",
    "\n",
    "# Berechne die Effektstärke (Cohen's d)\n",
    "pooled_std = np.sqrt(((sample_size_m - 1) * std_dev_m ** 2 + (sample_size_w - 1) * std_dev_w ** 2) / degrees_of_freedom)\n",
    "effect_size = (average_length_m - average_length_w) / pooled_std\n",
    "\n",
    "print(\"Ergebnisse des t-Tests:\")\n",
    "print(\"t-Statistik:\", t_statistic)\n",
    "print(\"p-Wert:\", p_value)\n",
    "print(\"Freiheitsgrad:\", degrees_of_freedom)\n",
    "print(\"Effektstärke (Cohen's d):\", effect_size)\n",
    "\n",
    "if p_value > 0.05:\n",
    "    print(\"Es gibt keinen signifikanten Unterschied zwischen den Subsamples.\")\n",
    "else:\n",
    "    print(\"Es gibt einen signifikanten Unterschied zwischen den Subsamples.\")\n",
    "    \n",
    "print(f\"(t({degrees_of_freedom}) = {round(t_statistic, 3)}, p > 0.05)\")"
   ]
  },
  {
   "cell_type": "markdown",
   "id": "1eca6548",
   "metadata": {},
   "source": [
    "- Test scheitert nicht, Voraussetzungen dafür sind aber eigentlich nicht gegebn\n",
    "- Ergebnis: \n",
    "\n",
    "**&rarr; Nullhypothese kann nicht abgelehnt werden.**"
   ]
  },
  {
   "cell_type": "markdown",
   "id": "0b2f8b1e",
   "metadata": {},
   "source": [
    "## &rarr; **Mann-Whitney-U-Test** (= Test für Ordinaldaten)\n",
    "- Ausweichmöglichkeit, wenn t-Test wegen nicht normalverteilten Daten nicht sinnvoll ist (siehe Stefanowitsch, Kap. 6, S. 198)"
   ]
  },
  {
   "cell_type": "code",
   "execution_count": 20,
   "id": "54e8ac02",
   "metadata": {},
   "outputs": [
    {
     "name": "stdout",
     "output_type": "stream",
     "text": [
      "Mann-Whitney-U-Test:\n",
      "U-Statistik: 7578.0\n",
      "p-Wert: 0.028335699668860997\n",
      "Es gibt einen signifikanten Unterschied zwischen den Subsamples.\n",
      "(U = 7578.0, N1 = 135, N2 = 96, p < 0.05)\n"
     ]
    }
   ],
   "source": [
    "# Durchführung des Mann-Whitney-U-Tests\n",
    "u_statistic, p_value = mannwhitneyu(poem_lengths_m, poem_lengths_w, alternative='two-sided')\n",
    "\n",
    "# Ausgabe der Ergebnisse\n",
    "print(\"Mann-Whitney-U-Test:\")\n",
    "print(\"U-Statistik:\", u_statistic)\n",
    "print(\"p-Wert:\", p_value)\n",
    "\n",
    "if p_value > 0.05:\n",
    "    print(\"Es gibt keinen signifikanten Unterschied zwischen den Subsamples.\")\n",
    "else:\n",
    "    print(\"Es gibt einen signifikanten Unterschied zwischen den Subsamples.\")\n",
    "\n",
    "print(f\"(U = {u_statistic}, N1 = {sample_size_m}, N2 = {sample_size_w}, p < 0.05)\")"
   ]
  },
  {
   "cell_type": "markdown",
   "id": "5f21d6fe",
   "metadata": {},
   "source": [
    "**&rarr; H1 potentiell möglich**\n",
    "\n",
    "- p-Wert ist liegt unter 0.05"
   ]
  },
  {
   "cell_type": "markdown",
   "id": "053ce6c2",
   "metadata": {},
   "source": [
    "5. Visualisierung"
   ]
  },
  {
   "cell_type": "code",
   "execution_count": 19,
   "id": "60b96c11",
   "metadata": {},
   "outputs": [
    {
     "data": {
      "image/png": "[encoded data removed]",
      "text/plain": [
       "<Figure size 432x432 with 1 Axes>"
      ]
     },
     "metadata": {
      "needs_background": "light"
     },
     "output_type": "display_data"
    }
   ],
   "source": [
    "# Zusammenführen der Daten in einem DataFrame für seaborn\n",
    "import pandas as pd\n",
    "data = pd.DataFrame({\n",
    "    \"Geschlecht\": [\"männlich\"] * sample_size_m + [\"weiblich\"] * sample_size_w,\n",
    "    \"Durchschnittliche Verslänge\": poem_lengths_m + poem_lengths_w\n",
    "})\n",
    "\n",
    "# Boxplot erstellen\n",
    "fig, ax = plt.subplots(figsize=(6, 6))\n",
    "sns.boxenplot(x=\"Geschlecht\", y=\"Durchschnittliche Verslänge\", data=data, ax=ax)\n",
    "\n",
    "# Label und Titel bestimmen\n",
    "plt.xlabel(\"Teilkorpus\")\n",
    "plt.ylabel(\"Gedichtlängen\")\n",
    "plt.title(\"Gedichtlängen in Tokens nach Geschlecht\")\n",
    "\n",
    "\n",
    "# Plot anzeigen\n",
    "plt.tight_layout()\n",
    "plt.show()"
   ]
  },
  {
   "cell_type": "code",
   "execution_count": null,
   "id": "17b3c29c",
   "metadata": {},
   "outputs": [],
   "source": []
  }
 ],
 "metadata": {
  "kernelspec": {
   "display_name": "Python 3 (ipykernel)",
   "language": "python",
   "name": "python3"
  },
  "language_info": {
   "codemirror_mode": {
    "name": "ipython",
    "version": 3
   },
   "file_extension": ".py",
   "mimetype": "text/x-python",
   "name": "python",
   "nbconvert_exporter": "python",
   "pygments_lexer": "ipython3",
   "version": "3.9.7"
  }
 },
 "nbformat": 4,
 "nbformat_minor": 5
}
