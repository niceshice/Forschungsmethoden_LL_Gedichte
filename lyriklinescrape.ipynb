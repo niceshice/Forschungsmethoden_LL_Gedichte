{
 "cells": [
  {
   "cell_type": "code",
   "execution_count": 1,
   "metadata": {},
   "outputs": [],
   "source": [
    "import requests\n",
    "from bs4 import BeautifulSoup\n",
    "import json\n",
    "import os\n",
    "from tqdm import tqdm"
   ]
  },
  {
   "cell_type": "code",
   "execution_count": 2,
   "metadata": {},
   "outputs": [],
   "source": [
    "def scrape_poem_links(url):\n",
    "    response = requests.get(url)\n",
    "    soup = BeautifulSoup(response.content, 'html.parser')\n",
    "    \n",
    "    poem_links = []\n",
    "    link_elements = soup.find_all('a', class_='row')\n",
    "    \n",
    "    for link in link_elements:\n",
    "        href = link.get('href')\n",
    "        poem_links.append(href)\n",
    "    \n",
    "    return poem_links"
   ]
  },
  {
   "cell_type": "code",
   "execution_count": 3,
   "metadata": {},
   "outputs": [],
   "source": [
    "def scrape_poem(url, title):\n",
    "    response = requests.get(url)\n",
    "    soup = BeautifulSoup(response.content, 'html.parser')\n",
    "    \n",
    "    poem_div = soup.find('div', class_='gedicht-originaltext clearfix')\n",
    "    poem_lines = [line.strip() for line in poem_div.stripped_strings]\n",
    "    \n",
    "    author_h1 = soup.find('h1', id='gedicht-autor')\n",
    "    author_name = author_h1.find('a').text.strip() if author_h1 else ''\n",
    "    \n",
    "    poem_data = {\n",
    "        'title': title,\n",
    "        'gender': '',\n",
    "        'author': author_name,\n",
    "        'poem': {}\n",
    "    }\n",
    "    \n",
    "    for idx, line in enumerate(poem_lines, start=1):\n",
    "        poem_data['poem'][f'line.{idx}'] = {'text': line.strip()}\n",
    "    \n",
    "    return poem_data\n",
    "\n",
    "\n",
    "def save_to_json(poem_data, file_name):\n",
    "    with open(file_name, 'w', encoding='utf-8') as file:\n",
    "        json.dump(poem_data, file, indent=4, ensure_ascii=False)\n"
   ]
  },
  {
   "cell_type": "code",
   "execution_count": 4,
   "metadata": {},
   "outputs": [
    {
     "name": "stderr",
     "output_type": "stream",
     "text": [
      "Scraping poems: 100%|████████████████████████████████████████████████████████████████| 20/20 [00:27<00:00,  1.37s/poem]\n"
     ]
    }
   ],
   "source": [
    "# Scrape the poem links\n",
    "url = 'https://www.lyrikline.org/de/gedichte?query=&onlynewoff=&lang[]=de&translatorname=999999&category[]=66'\n",
    "poem_links = scrape_poem_links(url)\n",
    "\n",
    "# Create a \"corpus\" folder if it doesn't exist\n",
    "corpus_folder = 'corpus'\n",
    "os.makedirs(corpus_folder, exist_ok=True)\n",
    "\n",
    "# Scrape and save the poems\n",
    "for link in tqdm(poem_links, desc='Scraping poems', unit='poem'):\n",
    "    title = link.split('/')[-1]\n",
    "    poem_url = f'https://www.lyrikline.org{link}'\n",
    "    poem_data = scrape_poem(poem_url, title)\n",
    "    file_name = os.path.join(corpus_folder, f'{title}.json')\n",
    "    save_to_json(poem_data, file_name)"
   ]
  },
  {
   "cell_type": "code",
   "execution_count": 5,
   "metadata": {},
   "outputs": [
    {
     "data": {
      "text/plain": [
       "{'line.1': {'text': 'Wenn die Zweige zum Boden geneigt sind kannst du'},\n",
       " 'line.2': {'text': 'auf den Baum klettern immer weiter so wie man'},\n",
       " 'line.3': {'text': 'die Leiter wegwirft auf der man steht wenn du hinsieht'},\n",
       " 'line.4': {'text': 'sind die klein geschrumpften Brombeeren aus diesem Jahr'},\n",
       " 'line.5': {'text': 'alemannische Mangos die immer noch süß schmecken'},\n",
       " 'line.6': {'text': 'wenn du still bist hörst du wie das Blut in den Bahnen wandert'},\n",
       " 'line.7': {'text': 'wie es Geschichten erzählt aus Jahren als du mit'},\n",
       " 'line.8': {'text': 'Bussarden geflogen bist wenn wir still sind hören wir'},\n",
       " 'line.9': {'text': 'unter der gefrorenen Erde Verbindungen wachsen von Buche'},\n",
       " 'line.10': {'text': 'zu Buche sehen Wunden nicht heilen aber vernarben wenn wir'},\n",
       " 'line.11': {'text': 'weitergehen sind die toten Hummeln wieder lebendig gibt es'},\n",
       " 'line.12': {'text': 'noch Lichtungen auf denen Wegerich wächst um ihn auf Schnitte zu legen'},\n",
       " 'line.13': {'text': 'wenn wir die Gesichter einander zuwenden aus dem Inneren'},\n",
       " 'line.14': {'text': 'der Rinde dieser feine ins Überall reichende Gesang wächst'},\n",
       " 'line.15': {'text': 'sehen wir dass die Brombeeren aus diesem Jahr wieder rund sind'},\n",
       " 'line.16': {'text': 'dass alemannische Mangos einen Kern aus Licht haben dass wir'},\n",
       " 'line.17': {'text': 'wenn wir zusammen gehen nicht verschwunden sind'}}"
      ]
     },
     "execution_count": 5,
     "metadata": {},
     "output_type": "execute_result"
    }
   ],
   "source": [
    "with open(\"corpus/alemannische-mangos-15731.json\", 'r', encoding=\"utf-8\") as file:\n",
    "        poem_data = json.load(file)\n",
    "poem_data['poem']"
   ]
  },
  {
   "cell_type": "code",
   "execution_count": null,
   "metadata": {},
   "outputs": [],
   "source": []
  }
 ],
 "metadata": {
  "kernelspec": {
   "display_name": "Python 3",
   "language": "python",
   "name": "python3"
  },
  "language_info": {
   "codemirror_mode": {
    "name": "ipython",
    "version": 3
   },
   "file_extension": ".py",
   "mimetype": "text/x-python",
   "name": "python",
   "nbconvert_exporter": "python",
   "pygments_lexer": "ipython3",
   "version": "3.8.5"
  }
 },
 "nbformat": 4,
 "nbformat_minor": 4
}
