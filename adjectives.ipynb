{
 "cells": [
  {
   "cell_type": "code",
   "execution_count": 1,
   "metadata": {},
   "outputs": [],
   "source": [
    "import os\n",
    "import json\n",
    "import spacy\n",
    "from collections import Counter\n",
    "import matplotlib.pyplot as plt\n",
    "import numpy as np\n",
    "import statistics\n",
    "import seaborn as sns\n",
    "\n",
    "from scipy.stats import ttest_ind, shapiro, mannwhitneyu\n"
   ]
  },
  {
   "cell_type": "code",
   "execution_count": 3,
   "metadata": {},
   "outputs": [
    {
     "ename": "KeyboardInterrupt",
     "evalue": "",
     "output_type": "error",
     "traceback": [
      "\u001b[1;31m---------------------------------------------------------------------------\u001b[0m",
      "\u001b[1;31mKeyboardInterrupt\u001b[0m                         Traceback (most recent call last)",
      "Cell \u001b[1;32mIn[3], line 26\u001b[0m\n\u001b[0;32m     24\u001b[0m gender \u001b[39m=\u001b[39m data[\u001b[39m'\u001b[39m\u001b[39mgender\u001b[39m\u001b[39m'\u001b[39m]\n\u001b[0;32m     25\u001b[0m poem_text \u001b[39m=\u001b[39m \u001b[39m'\u001b[39m\u001b[39m \u001b[39m\u001b[39m'\u001b[39m\u001b[39m.\u001b[39mjoin(line[\u001b[39m'\u001b[39m\u001b[39mtext\u001b[39m\u001b[39m'\u001b[39m] \u001b[39mfor\u001b[39;00m line \u001b[39min\u001b[39;00m data[\u001b[39m'\u001b[39m\u001b[39mpoem\u001b[39m\u001b[39m'\u001b[39m]\u001b[39m.\u001b[39mvalues())\n\u001b[1;32m---> 26\u001b[0m adjectives \u001b[39m=\u001b[39m extract_adjectives_lemmata(poem_text)\n\u001b[0;32m     27\u001b[0m \u001b[39mtry\u001b[39;00m:\n\u001b[0;32m     28\u001b[0m     ratio \u001b[39m=\u001b[39m \u001b[39mlen\u001b[39m(adjectives) \u001b[39m/\u001b[39m \u001b[39mlen\u001b[39m(poem_text\u001b[39m.\u001b[39msplit())\n",
      "Cell \u001b[1;32mIn[3], line 11\u001b[0m, in \u001b[0;36mextract_adjectives_lemmata\u001b[1;34m(text)\u001b[0m\n\u001b[0;32m     10\u001b[0m \u001b[39mdef\u001b[39;00m \u001b[39mextract_adjectives_lemmata\u001b[39m(text):\n\u001b[1;32m---> 11\u001b[0m     doc \u001b[39m=\u001b[39m nlp(text)\n\u001b[0;32m     12\u001b[0m     \u001b[39mreturn\u001b[39;00m [token\u001b[39m.\u001b[39mlemma_ \u001b[39mfor\u001b[39;00m token \u001b[39min\u001b[39;00m doc \u001b[39mif\u001b[39;00m token\u001b[39m.\u001b[39mpos_ \u001b[39m==\u001b[39m \u001b[39m'\u001b[39m\u001b[39mADJ\u001b[39m\u001b[39m'\u001b[39m]\n",
      "File \u001b[1;32mc:\\Users\\cravi\\AppData\\Local\\Programs\\Python\\Python310\\lib\\site-packages\\spacy\\language.py:1042\u001b[0m, in \u001b[0;36mLanguage.__call__\u001b[1;34m(self, text, disable, component_cfg)\u001b[0m\n\u001b[0;32m   1040\u001b[0m     error_handler \u001b[39m=\u001b[39m proc\u001b[39m.\u001b[39mget_error_handler()\n\u001b[0;32m   1041\u001b[0m \u001b[39mtry\u001b[39;00m:\n\u001b[1;32m-> 1042\u001b[0m     doc \u001b[39m=\u001b[39m proc(doc, \u001b[39m*\u001b[39m\u001b[39m*\u001b[39mcomponent_cfg\u001b[39m.\u001b[39mget(name, {}))  \u001b[39m# type: ignore[call-arg]\u001b[39;00m\n\u001b[0;32m   1043\u001b[0m \u001b[39mexcept\u001b[39;00m \u001b[39mKeyError\u001b[39;00m \u001b[39mas\u001b[39;00m e:\n\u001b[0;32m   1044\u001b[0m     \u001b[39m# This typically happens if a component is not initialized\u001b[39;00m\n\u001b[0;32m   1045\u001b[0m     \u001b[39mraise\u001b[39;00m \u001b[39mValueError\u001b[39;00m(Errors\u001b[39m.\u001b[39mE109\u001b[39m.\u001b[39mformat(name\u001b[39m=\u001b[39mname)) \u001b[39mfrom\u001b[39;00m \u001b[39me\u001b[39;00m\n",
      "File \u001b[1;32mc:\\Users\\cravi\\AppData\\Local\\Programs\\Python\\Python310\\lib\\site-packages\\spacy\\pipeline\\trainable_pipe.pyx:52\u001b[0m, in \u001b[0;36mspacy.pipeline.trainable_pipe.TrainablePipe.__call__\u001b[1;34m()\u001b[0m\n",
      "File \u001b[1;32mc:\\Users\\cravi\\AppData\\Local\\Programs\\Python\\Python310\\lib\\site-packages\\spacy\\pipeline\\tagger.pyx:138\u001b[0m, in \u001b[0;36mspacy.pipeline.tagger.Tagger.predict\u001b[1;34m()\u001b[0m\n",
      "File \u001b[1;32mc:\\Users\\cravi\\AppData\\Local\\Programs\\Python\\Python310\\lib\\site-packages\\thinc\\model.py:334\u001b[0m, in \u001b[0;36mModel.predict\u001b[1;34m(self, X)\u001b[0m\n\u001b[0;32m    330\u001b[0m \u001b[39mdef\u001b[39;00m \u001b[39mpredict\u001b[39m(\u001b[39mself\u001b[39m, X: InT) \u001b[39m-\u001b[39m\u001b[39m>\u001b[39m OutT:\n\u001b[0;32m    331\u001b[0m \u001b[39m    \u001b[39m\u001b[39m\"\"\"Call the model's `forward` function with `is_train=False`, and return\u001b[39;00m\n\u001b[0;32m    332\u001b[0m \u001b[39m    only the output, instead of the `(output, callback)` tuple.\u001b[39;00m\n\u001b[0;32m    333\u001b[0m \u001b[39m    \"\"\"\u001b[39;00m\n\u001b[1;32m--> 334\u001b[0m     \u001b[39mreturn\u001b[39;00m \u001b[39mself\u001b[39;49m\u001b[39m.\u001b[39;49m_func(\u001b[39mself\u001b[39;49m, X, is_train\u001b[39m=\u001b[39;49m\u001b[39mFalse\u001b[39;49;00m)[\u001b[39m0\u001b[39m]\n",
      "File \u001b[1;32mc:\\Users\\cravi\\AppData\\Local\\Programs\\Python\\Python310\\lib\\site-packages\\thinc\\layers\\chain.py:54\u001b[0m, in \u001b[0;36mforward\u001b[1;34m(model, X, is_train)\u001b[0m\n\u001b[0;32m     52\u001b[0m callbacks \u001b[39m=\u001b[39m []\n\u001b[0;32m     53\u001b[0m \u001b[39mfor\u001b[39;00m layer \u001b[39min\u001b[39;00m model\u001b[39m.\u001b[39mlayers:\n\u001b[1;32m---> 54\u001b[0m     Y, inc_layer_grad \u001b[39m=\u001b[39m layer(X, is_train\u001b[39m=\u001b[39;49mis_train)\n\u001b[0;32m     55\u001b[0m     callbacks\u001b[39m.\u001b[39mappend(inc_layer_grad)\n\u001b[0;32m     56\u001b[0m     X \u001b[39m=\u001b[39m Y\n",
      "File \u001b[1;32mc:\\Users\\cravi\\AppData\\Local\\Programs\\Python\\Python310\\lib\\site-packages\\thinc\\model.py:310\u001b[0m, in \u001b[0;36mModel.__call__\u001b[1;34m(self, X, is_train)\u001b[0m\n\u001b[0;32m    307\u001b[0m \u001b[39mdef\u001b[39;00m \u001b[39m__call__\u001b[39m(\u001b[39mself\u001b[39m, X: InT, is_train: \u001b[39mbool\u001b[39m) \u001b[39m-\u001b[39m\u001b[39m>\u001b[39m Tuple[OutT, Callable]:\n\u001b[0;32m    308\u001b[0m \u001b[39m    \u001b[39m\u001b[39m\"\"\"Call the model's `forward` function, returning the output and a\u001b[39;00m\n\u001b[0;32m    309\u001b[0m \u001b[39m    callback to compute the gradients via backpropagation.\"\"\"\u001b[39;00m\n\u001b[1;32m--> 310\u001b[0m     \u001b[39mreturn\u001b[39;00m \u001b[39mself\u001b[39;49m\u001b[39m.\u001b[39;49m_func(\u001b[39mself\u001b[39;49m, X, is_train\u001b[39m=\u001b[39;49mis_train)\n",
      "File \u001b[1;32mc:\\Users\\cravi\\AppData\\Local\\Programs\\Python\\Python310\\lib\\site-packages\\thinc\\layers\\with_array.py:42\u001b[0m, in \u001b[0;36mforward\u001b[1;34m(model, Xseq, is_train)\u001b[0m\n\u001b[0;32m     40\u001b[0m     \u001b[39mreturn\u001b[39;00m model\u001b[39m.\u001b[39mlayers[\u001b[39m0\u001b[39m](Xseq, is_train)\n\u001b[0;32m     41\u001b[0m \u001b[39melse\u001b[39;00m:\n\u001b[1;32m---> 42\u001b[0m     \u001b[39mreturn\u001b[39;00m cast(Tuple[SeqT, Callable], _list_forward(model, Xseq, is_train))\n",
      "File \u001b[1;32mc:\\Users\\cravi\\AppData\\Local\\Programs\\Python\\Python310\\lib\\site-packages\\thinc\\layers\\with_array.py:76\u001b[0m, in \u001b[0;36m_list_forward\u001b[1;34m(model, Xs, is_train)\u001b[0m\n\u001b[0;32m     74\u001b[0m pad \u001b[39m=\u001b[39m model\u001b[39m.\u001b[39mattrs[\u001b[39m\"\u001b[39m\u001b[39mpad\u001b[39m\u001b[39m\"\u001b[39m]\n\u001b[0;32m     75\u001b[0m lengths \u001b[39m=\u001b[39m NUMPY_OPS\u001b[39m.\u001b[39masarray1i([\u001b[39mlen\u001b[39m(seq) \u001b[39mfor\u001b[39;00m seq \u001b[39min\u001b[39;00m Xs])\n\u001b[1;32m---> 76\u001b[0m Xf \u001b[39m=\u001b[39m layer\u001b[39m.\u001b[39;49mops\u001b[39m.\u001b[39;49mflatten(Xs, pad\u001b[39m=\u001b[39;49mpad)\n\u001b[0;32m     77\u001b[0m Yf, get_dXf \u001b[39m=\u001b[39m layer(Xf, is_train)\n\u001b[0;32m     79\u001b[0m \u001b[39mdef\u001b[39;00m \u001b[39mbackprop\u001b[39m(dYs: ListXd) \u001b[39m-\u001b[39m\u001b[39m>\u001b[39m ListXd:\n",
      "File \u001b[1;32mc:\\Users\\cravi\\AppData\\Local\\Programs\\Python\\Python310\\lib\\site-packages\\thinc\\backends\\ops.py:341\u001b[0m, in \u001b[0;36mOps.flatten\u001b[1;34m(self, X, dtype, pad, ndim_if_empty)\u001b[0m\n\u001b[0;32m    339\u001b[0m     padded\u001b[39m.\u001b[39mappend(xp\u001b[39m.\u001b[39mzeros((pad,) \u001b[39m+\u001b[39m x\u001b[39m.\u001b[39mshape[\u001b[39m1\u001b[39m:], dtype\u001b[39m=\u001b[39mx\u001b[39m.\u001b[39mdtype))\n\u001b[0;32m    340\u001b[0m     X \u001b[39m=\u001b[39m padded\n\u001b[1;32m--> 341\u001b[0m result \u001b[39m=\u001b[39m xp\u001b[39m.\u001b[39;49mconcatenate(X)\n\u001b[0;32m    342\u001b[0m \u001b[39mif\u001b[39;00m dtype \u001b[39mis\u001b[39;00m \u001b[39mnot\u001b[39;00m \u001b[39mNone\u001b[39;00m:\n\u001b[0;32m    343\u001b[0m     result \u001b[39m=\u001b[39m xp\u001b[39m.\u001b[39masarray(result, dtype\u001b[39m=\u001b[39mdtype)\n",
      "File \u001b[1;32m<__array_function__ internals>:200\u001b[0m, in \u001b[0;36mconcatenate\u001b[1;34m(*args, **kwargs)\u001b[0m\n",
      "\u001b[1;31mKeyboardInterrupt\u001b[0m: "
     ]
    }
   ],
   "source": [
    "path = r'corpus_finished_new'\n",
    "\n",
    "#Load German tokenizer, tagger, parser, NER and word vectors\n",
    "nlp = spacy.load('de_core_news_md')\n",
    "\n",
    "def extract_adjectives(text):\n",
    "    doc = nlp(text)\n",
    "    return [token.text for token in doc if token.pos_ == 'ADJ']\n",
    "\n",
    "#Initialize data structures\n",
    "adjectives_gender = {'m': Counter(), 'w': Counter()}\n",
    "adjective_ratios_gender = {'m': [], 'w': []}\n",
    "not_counted = []\n",
    "\n",
    "#Iterate over .json files\n",
    "for filename in os.listdir(path):\n",
    "    if filename.endswith('.json'):\n",
    "        with open(os.path.join(path, filename), 'r', encoding='utf-8') as f:\n",
    "            data = json.load(f)\n",
    "            gender = data['gender']\n",
    "            poem_text = ' '.join(line['text'] for line in data['poem'].values())\n",
    "            adjectives = extract_adjectives_lemmata(poem_text)\n",
    "            try:\n",
    "                ratio = len(adjectives) / len(poem_text.split())\n",
    "                adjectives_gender[gender].update(adjectives)\n",
    "                adjective_ratios_gender[gender].append(ratio)\n",
    "            except:\n",
    "                not_counted.append(filename)\n",
    "\n",
    "#Calculate average adjective ratios for each gender\n",
    "average_ratios_gender = {gender: sum(ratios) / len(ratios) for gender, ratios in adjective_ratios_gender.items()}\n",
    "\n",
    "all_genders = sorted(list(average_ratios_gender.keys()))\n",
    "\n",
    "#Print the overall, median, minimum, and maximum adjective ratio for each gender\n",
    "for gender in all_genders:\n",
    "    all_ratios = adjective_ratios_gender[gender]\n",
    "    print(f'Gender: {gender}')\n",
    "    print('Overall average relative adjective ratio:', sum(all_ratios) / len(all_ratios))\n",
    "    print('Median relative adjective ratio:', statistics.median(all_ratios))\n",
    "    print('Minimum relative adjective ratio:', min(all_ratios))\n",
    "    print('Maximum relative adjective ratio:', max(all_ratios), '\\n')\n",
    "#Print the 10 most common adjectives for each gender\n",
    "for gender in all_genders:\n",
    "    print(f'Gender: {gender}')\n",
    "    print('10 most common adjectives:', adjectives_gender[gender].most_common(10), '\\n')\n",
    "\n",
    "print(not_counted)"
   ]
  },
  {
   "cell_type": "code",
   "execution_count": null,
   "metadata": {},
   "outputs": [
    {
     "data": {
      "text/plain": [
       "55"
      ]
     },
     "execution_count": 8,
     "metadata": {},
     "output_type": "execute_result"
    }
   ],
   "source": [
    "len(not_counted)"
   ]
  },
  {
   "cell_type": "code",
   "execution_count": null,
   "metadata": {},
   "outputs": [
    {
     "name": "stdout",
     "output_type": "stream",
     "text": [
      "Shapiro-Wilk-Test für Sample M:\n",
      "Teststatistik: 0.9395573735237122\n",
      "p-Wert: 6.376049124691613e-24\n",
      "Die Adjektivfrequenzen für Sample M sind nicht normalverteilt.\n",
      "Shapiro-Wilk-Test für Sample W:\n",
      "Teststatistik: 0.9392551183700562\n",
      "p-Wert: 1.801250148825632e-19\n",
      "Die Adjektivfrequenzen für Sample W sind nicht normalverteilt.\n"
     ]
    }
   ],
   "source": [
    "# Funktion zum Durchführen des Shapiro-Wilk-Tests und zur Interpretation der Ergebnisse\n",
    "def test_normality(data, sample_name):\n",
    "    stat, p_value = shapiro(data)\n",
    "    alpha = 0.05  # Signifikanzniveau\n",
    "    print(f\"Shapiro-Wilk-Test für {sample_name}:\")\n",
    "    print(\"Teststatistik:\", stat)\n",
    "    print(\"p-Wert:\", p_value)\n",
    "    if p_value > alpha:\n",
    "        print(f\"Die Adjektivfrequenzen für {sample_name} sind normalverteilt.\")\n",
    "    else:\n",
    "        print(f\"Die Adjektivfrequenzen für {sample_name} sind nicht normalverteilt.\")\n",
    "\n",
    "# Durchführung des Tests für beide Subsamples\n",
    "test_normality(adjective_ratios_gender['m'], \"Sample M\")\n",
    "test_normality(adjective_ratios_gender['w'], \"Sample W\")"
   ]
  },
  {
   "cell_type": "code",
   "execution_count": null,
   "metadata": {},
   "outputs": [
    {
     "name": "stdout",
     "output_type": "stream",
     "text": [
      "T-statistic: -4.395903717918427\n",
      "p-value: 1.1506244287424415e-05\n"
     ]
    }
   ],
   "source": [
    "# Perform a t-test to compare the means of the two groups\n",
    "t_stat, p_val = ttest_ind(adjective_ratios_gender['m'], adjective_ratios_gender['w'])\n",
    "\n",
    "print('T-statistic:', t_stat)\n",
    "print('p-value:', p_val)"
   ]
  },
  {
   "cell_type": "code",
   "execution_count": null,
   "metadata": {},
   "outputs": [
    {
     "name": "stdout",
     "output_type": "stream",
     "text": [
      "Mann-Whitney U-Statistik: 640677.5\n",
      "p-Wert: 7.619898846782165e-05\n"
     ]
    }
   ],
   "source": [
    "u_stat, p_val = mannwhitneyu(adjective_ratios_gender['m'], adjective_ratios_gender['w'], alternative='two-sided')\n",
    "\n",
    "print('Mann-Whitney U-Statistik:', u_stat)\n",
    "print('p-Wert:', p_val)"
   ]
  },
  {
   "cell_type": "code",
   "execution_count": null,
   "metadata": {},
   "outputs": [
    {
     "name": "stdout",
     "output_type": "stream",
     "text": [
      "Effektstärke (Cramer's V): 0.6728313565064518\n"
     ]
    }
   ],
   "source": [
    "n1 = len(adjective_ratios_gender['m'])\n",
    "n2 = len(adjective_ratios_gender['w'])\n",
    "effect_size = np.sqrt(u_stat / (n1 * n2))\n",
    "\n",
    "print(\"Effektstärke (Cramer's V):\", effect_size)"
   ]
  },
  {
   "cell_type": "code",
   "execution_count": null,
   "metadata": {},
   "outputs": [
    {
     "data": {
      "image/png": "[encoded data removed]",
      "text/plain": [
       "<Figure size 640x480 with 1 Axes>"
      ]
     },
     "metadata": {},
     "output_type": "display_data"
    }
   ],
   "source": [
    "# Erstelle eine Figure und Axes-Objekte\n",
    "fig, ax = plt.subplots()\n",
    "\n",
    "# Plotten der Histogramme für beide Subsamples\n",
    "ax.hist(adjective_ratios_gender['m'], bins=20, alpha=0.5, label='Sample M', color='blue')\n",
    "ax.hist(adjective_ratios_gender['w'], bins=20, alpha=0.5, label='Sample W', color='orange')\n",
    "\n",
    "# Hinzufügen von Labels und Titeln\n",
    "ax.set_xlabel('Anteil')\n",
    "ax.set_ylabel('Menge')\n",
    "ax.set_title('Verteilung der Adjektivanteile')\n",
    "\n",
    "# Legende anzeigen\n",
    "ax.legend()\n",
    "\n",
    "# Anzeigen der Grafik\n",
    "plt.show()"
   ]
  },
  {
   "cell_type": "code",
   "execution_count": null,
   "metadata": {},
   "outputs": [],
   "source": []
  }
 ],
 "metadata": {
  "kernelspec": {
   "display_name": "Python 3",
   "language": "python",
   "name": "python3"
  },
  "language_info": {
   "codemirror_mode": {
    "name": "ipython",
    "version": 3
   },
   "file_extension": ".py",
   "mimetype": "text/x-python",
   "name": "python",
   "nbconvert_exporter": "python",
   "pygments_lexer": "ipython3",
   "version": "3.10.4"
  },
  "orig_nbformat": 4
 },
 "nbformat": 4,
 "nbformat_minor": 2
}
