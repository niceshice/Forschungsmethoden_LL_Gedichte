{
 "cells": [
  {
   "cell_type": "code",
   "execution_count": 12,
   "metadata": {},
   "outputs": [],
   "source": [
    "import os\n",
    "import json\n",
    "import spacy\n",
    "from collections import Counter\n",
    "import matplotlib.pyplot as plt\n",
    "import numpy as np\n",
    "import statistics\n",
    "import seaborn as sns\n",
    "\n",
    "from scipy.stats import ttest_ind, shapiro, mannwhitneyu\n"
   ]
  },
  {
   "cell_type": "code",
   "execution_count": 13,
   "metadata": {},
   "outputs": [
    {
     "name": "stdout",
     "output_type": "stream",
     "text": [
      "Gender: m\n",
      "Overall average relative adjective ratio: 0.035786160280130916\n",
      "Median relative adjective ratio: 0.02962962962962963\n",
      "Minimum relative adjective ratio: 0.0\n",
      "Maximum relative adjective ratio: 0.13978494623655913 \n",
      "\n",
      "Gender: w\n",
      "Overall average relative adjective ratio: 0.04590972589269199\n",
      "Median relative adjective ratio: 0.04\n",
      "Minimum relative adjective ratio: 0.0\n",
      "Maximum relative adjective ratio: 0.16393442622950818 \n",
      "\n",
      "Gender: m\n",
      "10 most common adjectives: [('weißen', 7), ('andere', 7), ('letzten', 6), ('alte', 6), ('ganze', 6), ('grünen', 6), ('kleine', 6), ('ersten', 5), ('langen', 5), ('kleinen', 5)] \n",
      "\n",
      "Gender: w\n",
      "10 most common adjectives: [('hellen', 7), ('eigenen', 6), ('kleine', 5), ('andere', 5), ('große', 5), ('alten', 5), ('rote', 4), ('10.', 4), ('letzten', 4), ('schwarzen', 4)] \n",
      "\n"
     ]
    }
   ],
   "source": [
    "path = r'corpus_finished'\n",
    "\n",
    "#Load German tokenizer, tagger, parser, NER and word vectors\n",
    "nlp = spacy.load('de_core_news_md')\n",
    "\n",
    "def extract_adjectives(text):\n",
    "    doc = nlp(text)\n",
    "    return [token.text for token in doc if token.pos_ == 'ADJ']\n",
    "\n",
    "#Initialize data structures\n",
    "adjectives_gender = {'m': Counter(), 'w': Counter()}\n",
    "adjective_ratios_gender = {'m': [], 'w': []}\n",
    "\n",
    "#Iterate over .json files\n",
    "for filename in os.listdir(path):\n",
    "    if filename.endswith('.json'):\n",
    "        with open(os.path.join(path, filename), 'r', encoding='utf-8') as f:\n",
    "            data = json.load(f)\n",
    "            gender = data['gender']\n",
    "            poem_text = ' '.join(line['text'] for line in data['poem'].values())\n",
    "            adjectives = extract_adjectives(poem_text)\n",
    "            ratio = len(adjectives) / len(poem_text.split())\n",
    "            adjectives_gender[gender].update(adjectives)\n",
    "            adjective_ratios_gender[gender].append(ratio)\n",
    "\n",
    "#Calculate average adjective ratios for each gender\n",
    "average_ratios_gender = {gender: sum(ratios) / len(ratios) for gender, ratios in adjective_ratios_gender.items()}\n",
    "\n",
    "all_genders = sorted(list(average_ratios_gender.keys()))\n",
    "\n",
    "#Print the overall, median, minimum, and maximum adjective ratio for each gender\n",
    "for gender in all_genders:\n",
    "    all_ratios = adjective_ratios_gender[gender]\n",
    "    print(f'Gender: {gender}')\n",
    "    print('Overall average relative adjective ratio:', sum(all_ratios) / len(all_ratios))\n",
    "    print('Median relative adjective ratio:', statistics.median(all_ratios))\n",
    "    print('Minimum relative adjective ratio:', min(all_ratios))\n",
    "    print('Maximum relative adjective ratio:', max(all_ratios), '\\n')\n",
    "#Print the 10 most common adjectives for each gender\n",
    "for gender in all_genders:\n",
    "    print(f'Gender: {gender}')\n",
    "    print('10 most common adjectives:', adjectives_gender[gender].most_common(10), '\\n')"
   ]
  },
  {
   "cell_type": "code",
   "execution_count": 14,
   "metadata": {},
   "outputs": [
    {
     "name": "stdout",
     "output_type": "stream",
     "text": [
      "Shapiro-Wilk-Test für Sample M:\n",
      "Teststatistik: 0.9206070303916931\n",
      "p-Wert: 7.563403983112948e-07\n",
      "Die Adjektivfrequenzen für Sample M sind nicht normalverteilt.\n",
      "Shapiro-Wilk-Test für Sample W:\n",
      "Teststatistik: 0.9221581816673279\n",
      "p-Wert: 2.8958573238924146e-05\n",
      "Die Adjektivfrequenzen für Sample W sind nicht normalverteilt.\n"
     ]
    }
   ],
   "source": [
    "# Funktion zum Durchführen des Shapiro-Wilk-Tests und zur Interpretation der Ergebnisse\n",
    "def test_normality(data, sample_name):\n",
    "    stat, p_value = shapiro(data)\n",
    "    alpha = 0.05  # Signifikanzniveau\n",
    "    print(f\"Shapiro-Wilk-Test für {sample_name}:\")\n",
    "    print(\"Teststatistik:\", stat)\n",
    "    print(\"p-Wert:\", p_value)\n",
    "    if p_value > alpha:\n",
    "        print(f\"Die Adjektivfrequenzen für {sample_name} sind normalverteilt.\")\n",
    "    else:\n",
    "        print(f\"Die Adjektivfrequenzen für {sample_name} sind nicht normalverteilt.\")\n",
    "\n",
    "# Durchführung des Tests für beide Subsamples\n",
    "test_normality(adjective_ratios_gender['m'], \"Sample M\")\n",
    "test_normality(adjective_ratios_gender['w'], \"Sample W\")"
   ]
  },
  {
   "cell_type": "code",
   "execution_count": 15,
   "metadata": {},
   "outputs": [
    {
     "name": "stdout",
     "output_type": "stream",
     "text": [
      "T-statistic: -2.4144950129434566\n",
      "p-value: 0.016545847076117972\n"
     ]
    }
   ],
   "source": [
    "# Perform a t-test to compare the means of the two groups\n",
    "t_stat, p_val = ttest_ind(adjective_ratios_gender['m'], adjective_ratios_gender['w'])\n",
    "\n",
    "print('T-statistic:', t_stat)\n",
    "print('p-value:', p_val)"
   ]
  },
  {
   "cell_type": "code",
   "execution_count": 16,
   "metadata": {},
   "outputs": [
    {
     "name": "stdout",
     "output_type": "stream",
     "text": [
      "Mann-Whitney U-Statistik: 5489.5\n",
      "p-Wert: 0.06324698878504535\n"
     ]
    }
   ],
   "source": [
    "u_stat, p_val = mannwhitneyu(adjective_ratios_gender['m'], adjective_ratios_gender['w'], alternative='two-sided')\n",
    "\n",
    "print('Mann-Whitney U-Statistik:', u_stat)\n",
    "print('p-Wert:', p_val)"
   ]
  },
  {
   "cell_type": "code",
   "execution_count": 17,
   "metadata": {},
   "outputs": [
    {
     "name": "stdout",
     "output_type": "stream",
     "text": [
      "Effektstärke (Cramer's V): 0.6542409258704477\n"
     ]
    }
   ],
   "source": [
    "n1 = len(adjective_ratios_gender['m'])\n",
    "n2 = len(adjective_ratios_gender['w'])\n",
    "effect_size = np.sqrt(u_stat / (n1 * n2))\n",
    "\n",
    "print(\"Effektstärke (Cramer's V):\", effect_size)"
   ]
  },
  {
   "cell_type": "code",
   "execution_count": 20,
   "metadata": {},
   "outputs": [
    {
     "data": {
      "text/plain": [
       "(array([13.,  5., 10., 14., 12.,  8., 12., 11.,  5., 10.,  5.,  2.,  5.,\n",
       "         2.,  0.,  5.,  6.,  0.,  3.,  1.,  2.,  0.,  3.,  0.,  0.,  0.,\n",
       "         0.,  0.,  0.,  1.]),\n",
       " array([0.        , 0.0046595 , 0.009319  , 0.01397849, 0.01863799,\n",
       "        0.02329749, 0.02795699, 0.03261649, 0.03727599, 0.04193548,\n",
       "        0.04659498, 0.05125448, 0.05591398, 0.06057348, 0.06523297,\n",
       "        0.06989247, 0.07455197, 0.07921147, 0.08387097, 0.08853047,\n",
       "        0.09318996, 0.09784946, 0.10250896, 0.10716846, 0.11182796,\n",
       "        0.11648746, 0.12114695, 0.12580645, 0.13046595, 0.13512545,\n",
       "        0.13978495]),\n",
       " <BarContainer object of 30 artists>)"
      ]
     },
     "execution_count": 20,
     "metadata": {},
     "output_type": "execute_result"
    },
    {
     "data": {
      "image/png": "[encoded data removed]",
      "text/plain": [
       "<Figure size 640x480 with 1 Axes>"
      ]
     },
     "metadata": {},
     "output_type": "display_data"
    }
   ],
   "source": [
    "plt.hist(adjective_ratios_gender['m'], bins=30)"
   ]
  },
  {
   "cell_type": "code",
   "execution_count": 19,
   "metadata": {},
   "outputs": [
    {
     "data": {
      "text/plain": [
       "(array([ 9.,  5.,  7., 10.,  5.,  4.,  5., 11.,  3.,  3.,  5.,  1.,  5.,\n",
       "         7.,  2.,  1.,  1.,  3.,  0.,  0.,  3.,  0.,  2.,  0.,  1.,  0.,\n",
       "         1.,  0.,  0.,  1.]),\n",
       " array([0.        , 0.00546448, 0.01092896, 0.01639344, 0.02185792,\n",
       "        0.0273224 , 0.03278689, 0.03825137, 0.04371585, 0.04918033,\n",
       "        0.05464481, 0.06010929, 0.06557377, 0.07103825, 0.07650273,\n",
       "        0.08196721, 0.08743169, 0.09289617, 0.09836066, 0.10382514,\n",
       "        0.10928962, 0.1147541 , 0.12021858, 0.12568306, 0.13114754,\n",
       "        0.13661202, 0.1420765 , 0.14754098, 0.15300546, 0.15846995,\n",
       "        0.16393443]),\n",
       " <BarContainer object of 30 artists>)"
      ]
     },
     "execution_count": 19,
     "metadata": {},
     "output_type": "execute_result"
    },
    {
     "data": {
      "image/png": "[encoded data removed]",
      "text/plain": [
       "<Figure size 640x480 with 1 Axes>"
      ]
     },
     "metadata": {},
     "output_type": "display_data"
    }
   ],
   "source": [
    "plt.hist(adjective_ratios_gender['w'], bins=30)"
   ]
  },
  {
   "cell_type": "code",
   "execution_count": null,
   "metadata": {},
   "outputs": [],
   "source": []
  }
 ],
 "metadata": {
  "kernelspec": {
   "display_name": "Python 3",
   "language": "python",
   "name": "python3"
  },
  "language_info": {
   "codemirror_mode": {
    "name": "ipython",
    "version": 3
   },
   "file_extension": ".py",
   "mimetype": "text/x-python",
   "name": "python",
   "nbconvert_exporter": "python",
   "pygments_lexer": "ipython3",
   "version": "3.11.4"
  },
  "orig_nbformat": 4
 },
 "nbformat": 4,
 "nbformat_minor": 2
}
