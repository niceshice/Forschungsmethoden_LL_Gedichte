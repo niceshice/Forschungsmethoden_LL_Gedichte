{
 "cells": [
  {
   "cell_type": "markdown",
   "id": "7e6f8e35",
   "metadata": {},
   "source": [
    "## Probeweise Durchführung einer Teststatistik für Tokenfrequency pro Vers"
   ]
  },
  {
   "cell_type": "markdown",
   "id": "bb38cbcd",
   "metadata": {},
   "source": [
    "1. Hypothesen\n",
    "- **Nullhypothese (H0)**: Es gibt zwischen den beiden Subsamples (M/W) **keinen signifikanten Unterschied** in der Tokenanzahl/Vers (= Länge der Verse).\n",
    "- **Alternativhypothese (H1)**: Es gibt zwischen den beiden Subsamples (M/W) **einen signifikanten Unterschied** in der Tokenanzahl/Vers (= Länge der Verse).\n",
    "    - &rarr; \"Frauen schreiben Gedichte mit längeren Verse als Männer. Männer schreiben im Verlgeich zu Frauen kürzere Verse in ihren Gedichten.\""
   ]
  },
  {
   "cell_type": "code",
   "execution_count": 1,
   "id": "798dad97",
   "metadata": {},
   "outputs": [],
   "source": [
    "import os\n",
    "import json\n",
    "import nltk\n",
    "import statistics\n",
    "\n",
    "import matplotlib.pyplot as plt\n",
    "import seaborn as sns\n",
    "\n",
    "from nltk.tokenize import word_tokenize\n",
    "from scipy.stats import ttest_ind, shapiro, mannwhitneyu\n",
    "from collections import Counter"
   ]
  },
  {
   "cell_type": "markdown",
   "id": "bb58ba26",
   "metadata": {},
   "source": [
    "2. Daten vorbereiten\n",
    "\n",
    "Für jedes Teilkorpus:\n",
    "- Liste mit Tokenanzahl für jede Line\n",
    "- len(tokens_per_line_list_m/w) = Gesamtzahl der Verse pro Teilkorpus"
   ]
  },
  {
   "cell_type": "code",
   "execution_count": 2,
   "id": "fb9b35d0",
   "metadata": {},
   "outputs": [
    {
     "name": "stdout",
     "output_type": "stream",
     "text": [
      "[5, 5, 6, 3, 6, 6, 5, 6, 7, 6, 6, 5, 8, 4, 8, 9, 7, 5, 6, 8, 8, 6, 4, 11, 9, 7, 5, 12, 9, 10, 9, 11, 5, 15, 7, 11, 12, 11, 12, 14, 14, 13, 8, 11, 10, 9, 10, 11, 10, 14, 12, 8, 7, 13, 12, 12, 10, 14, 9, 14, 13, 18, 9, 13, 14, 14, 3, 4, 11, 13, 10, 14, 12, 10, 10, 13, 11, 8, 8, 10, 10, 10, 1, 1, 1, 1, 3, 3, 9, 10, 2, 1, 2, 2, 3, 3, 11, 13, 18, 2]\n",
      "[8, 3, 9, 9, 14, 13, 8, 10, 10, 12, 9, 1, 1, 1, 1, 3, 6, 7, 6, 4, 2, 1, 1, 1, 1, 1, 4, 7, 8, 7, 8, 8, 11, 8, 7, 6, 7, 7, 7, 7, 9, 7, 6, 7, 7, 7, 7, 6, 7, 7, 9, 8, 5, 8, 8, 5, 8, 8, 7, 9, 7, 8, 7, 5, 7, 6, 10, 8, 7, 7, 9, 8, 7, 10, 11, 6, 9, 10, 7, 9, 8, 6, 8, 8, 7, 6, 8, 7, 10, 9, 7, 9, 9, 9, 3, 7, 6, 6, 5, 7]\n"
     ]
    }
   ],
   "source": [
    "# Erstelle Liste mit absoluter Häufigkeit von Tokens/Line für Gedicht\n",
    "def count_tokens_per_line(poem):\n",
    "    tokens_per_line = []\n",
    "    for line in poem.values():\n",
    "        text = line['text']\n",
    "        tokens = word_tokenize(text)\n",
    "        tokens_per_line.append(len(tokens))\n",
    "    return tokens_per_line\n",
    "\n",
    "# Iteriere über alle JSON-Dateien im Korpus\n",
    "# bestimme für jedes Gedicht und jeden Vers darin die Anzahl der Tokens\n",
    "def list_tokens_per_line(corpus_folder):\n",
    "    tokens_per_line_list = []\n",
    "    for filename in os.listdir(corpus_folder):\n",
    "        if filename.endswith('.json'):\n",
    "            with open(os.path.join(corpus_folder, filename), 'r') as file:\n",
    "                data = json.load(file)\n",
    "                poem = data['poem']\n",
    "                tokens_per_line_list.extend(count_tokens_per_line(poem))\n",
    "    return tokens_per_line_list\n",
    "\n",
    "# Liste mit der absoluten Anzahl von Tokens für alle Verse im Korpus 'M'\n",
    "tokens_per_line_list_m = list_tokens_per_line('corpus_selenium_m')\n",
    "\n",
    "# Liste mit der absoluten Anzahl von Tokens für alle Verse im Korpus 'W'\n",
    "tokens_per_line_list_w = list_tokens_per_line('corpus_selenium_w')\n",
    "\n",
    "# Anzeige von Ausschnitten\n",
    "print(tokens_per_line_list_m[:100])\n",
    "print(tokens_per_line_list_w[:100])"
   ]
  },
  {
   "cell_type": "code",
   "execution_count": 3,
   "id": "36af4622",
   "metadata": {},
   "outputs": [
    {
     "name": "stdout",
     "output_type": "stream",
     "text": [
      "Counter({6: 494, 7: 476, 5: 400, 8: 389, 4: 357, 9: 342, 3: 283, 10: 204, 1: 139, 11: 133, 2: 132, 12: 82, 13: 67, 14: 35, 15: 28, 16: 19, 17: 11, 0: 10, 18: 7, 19: 4, 20: 3, 21: 2, 51: 2, 37: 1, 101: 1, 38: 1, 84: 1, 29: 1})\n",
      "Counter({6: 278, 7: 263, 5: 238, 8: 222, 4: 181, 9: 176, 3: 152, 2: 135, 10: 128, 11: 91, 1: 77, 12: 66, 13: 45, 14: 21, 15: 10, 16: 5, 17: 3, 19: 1, 18: 1, 79: 1, 22: 1})\n"
     ]
    }
   ],
   "source": [
    "# Welche möglichen Daten gibt es?\n",
    "print(Counter(tokens_per_line_list_m))\n",
    "print(Counter(tokens_per_line_list_w))"
   ]
  },
  {
   "cell_type": "markdown",
   "id": "b5998dfc",
   "metadata": {},
   "source": [
    "3. Deskriptive Statistik"
   ]
  },
  {
   "cell_type": "code",
   "execution_count": 4,
   "id": "40ff19f6",
   "metadata": {},
   "outputs": [
    {
     "name": "stdout",
     "output_type": "stream",
     "text": [
      "Mittlere Tokenfrequenz/Vers für männliche Autoren: 6.793598233995585\n",
      "Mittlere Tokenfrequenz/Vers für weibliche Autoren: 6.662052505966587\n",
      "Standardabweichung für männliche Autoren: 4.004813949738498\n",
      "Standardabweichung für weibliche Autoren: 3.5271313791954544\n",
      "Stichprobengröße für männliche Autoren: 3624\n",
      "Stichprobengröße für weibliche Autoren: 2095\n"
     ]
    }
   ],
   "source": [
    "# Deskriptive Statistik für beide Subsamples (M/W)\n",
    "# Mittelwert\n",
    "mean_m = statistics.mean(tokens_per_line_list_m)\n",
    "mean_w = statistics.mean(tokens_per_line_list_w)\n",
    "\n",
    "# Standardabweichung\n",
    "std_dev_m = statistics.stdev(tokens_per_line_list_m)\n",
    "std_dev_w = statistics.stdev(tokens_per_line_list_w)\n",
    "\n",
    "sample_size_m = len(tokens_per_line_list_m)\n",
    "sample_size_w = len(tokens_per_line_list_w)\n",
    "\n",
    "print(\"Mittlere Tokenfrequenz/Vers für männliche Autoren:\", mean_m)\n",
    "print(\"Mittlere Tokenfrequenz/Vers für weibliche Autoren:\", mean_w)\n",
    "print(\"Standardabweichung für männliche Autoren:\", std_dev_m)\n",
    "print(\"Standardabweichung für weibliche Autoren:\", std_dev_w)\n",
    "print(\"Stichprobengröße für männliche Autoren:\", sample_size_m)\n",
    "print(\"Stichprobengröße für weibliche Autoren:\", sample_size_w)"
   ]
  },
  {
   "cell_type": "code",
   "execution_count": 5,
   "id": "07ddf2f3",
   "metadata": {},
   "outputs": [
    {
     "name": "stdout",
     "output_type": "stream",
     "text": [
      "Median der Verslängen für männliche Autoren: 6.0\n",
      "Median der Verslängen für weibliche Autoren: 6.0\n"
     ]
    }
   ],
   "source": [
    "# Median (weil immer ganze Zahlen, lassen sich die Daten gut wie Ordinaldaten behandeln)\n",
    "\n",
    "def calculate_median(data):\n",
    "    # Sortiere die Liste in aufsteigender Reihenfolge\n",
    "    sorted_data = sorted(data)\n",
    "    n = len(sorted_data)\n",
    "\n",
    "    if n % 2 == 1:\n",
    "        # Wenn die Anzahl der Elemente ungerade ist\n",
    "        median = sorted_data[n // 2]\n",
    "    else:\n",
    "        # Wenn die Anzahl der Elemente gerade ist\n",
    "        median = (sorted_data[n // 2 - 1] + sorted_data[n // 2]) / 2\n",
    "\n",
    "    return float(median)\n",
    "\n",
    "\n",
    "# Berechne den Median für beide Subsamples\n",
    "median_vers_length_m = calculate_median(tokens_per_line_list_m)\n",
    "median_vers_length_w = calculate_median(tokens_per_line_list_w)\n",
    "\n",
    "print(\"Median der Verslängen für männliche Autoren:\", median_vers_length_m)\n",
    "print(\"Median der Verslängen für weibliche Autoren:\", median_vers_length_w)"
   ]
  },
  {
   "cell_type": "markdown",
   "id": "cc6d3e88",
   "metadata": {},
   "source": [
    "Anhand der deskriptiven Statistik lässt sich bereits vermuten, dass es keinen signifikanten Unterschied zwischen der durchschnittlichen Länge von weiblichen und männlichen Versen im Korpus gibt, sondern diese annähernd gleich lang sind."
   ]
  },
  {
   "cell_type": "markdown",
   "id": "8d6f880c",
   "metadata": {},
   "source": [
    "4. Statistischer Test"
   ]
  },
  {
   "cell_type": "markdown",
   "id": "f835f6c4",
   "metadata": {},
   "source": [
    "## Teststatistik: t-Test?\n",
    "Vorausssetzung ist Normalverteilung, also Normalverteilung der Tokenfrequency testen:"
   ]
  },
  {
   "cell_type": "code",
   "execution_count": 6,
   "id": "3ae5d6c8",
   "metadata": {},
   "outputs": [
    {
     "name": "stdout",
     "output_type": "stream",
     "text": [
      "Shapiro-Wilk-Test für Sample M:\n",
      "Teststatistik: 0.7298721075057983\n",
      "p-Wert: 0.0\n",
      "Die Tokenfrequenzen für Sample M sind nicht normalverteilt.\n",
      "Shapiro-Wilk-Test für Sample W:\n",
      "Teststatistik: 0.8382524251937866\n",
      "p-Wert: 7.631471436712954e-42\n",
      "Die Tokenfrequenzen für Sample W sind nicht normalverteilt.\n"
     ]
    }
   ],
   "source": [
    "# Funktion zum Durchführen des Shapiro-Wilk-Tests und zur Interpretation der Ergebnisse\n",
    "def test_normality(data, sample_name):\n",
    "    stat, p_value = shapiro(data)\n",
    "    alpha = 0.05  # Signifikanzniveau\n",
    "    print(f\"Shapiro-Wilk-Test für {sample_name}:\")\n",
    "    print(\"Teststatistik:\", stat)\n",
    "    print(\"p-Wert:\", p_value)\n",
    "    if p_value > alpha:\n",
    "        print(f\"Die Tokenfrequenzen für {sample_name} sind normalverteilt.\")\n",
    "    else:\n",
    "        print(f\"Die Tokenfrequenzen für {sample_name} sind nicht normalverteilt.\")\n",
    "\n",
    "# Durchführung des Tests für beide Subsamples\n",
    "test_normality(tokens_per_line_list_m, \"Sample M\")\n",
    "test_normality(tokens_per_line_list_w, \"Sample W\")"
   ]
  },
  {
   "cell_type": "markdown",
   "id": "f175f0f2",
   "metadata": {},
   "source": [
    "Visualisierung für (Nicht-)Normalverteilung"
   ]
  },
  {
   "cell_type": "code",
   "execution_count": 7,
   "id": "dbb47a6f",
   "metadata": {},
   "outputs": [
    {
     "data": {
      "image/png": "[encoded data removed]",
      "text/plain": [
       "<Figure size 576x432 with 1 Axes>"
      ]
     },
     "metadata": {
      "needs_background": "light"
     },
     "output_type": "display_data"
    },
    {
     "data": {
      "image/png": "[encoded data removed]",
      "text/plain": [
       "<Figure size 576x432 with 1 Axes>"
      ]
     },
     "metadata": {
      "needs_background": "light"
     },
     "output_type": "display_data"
    },
    {
     "data": {
      "image/png": "[encoded data removed]",
      "text/plain": [
       "<Figure size 576x432 with 1 Axes>"
      ]
     },
     "metadata": {
      "needs_background": "light"
     },
     "output_type": "display_data"
    },
    {
     "data": {
      "image/png": "[encoded data removed]",
      "text/plain": [
       "<Figure size 576x432 with 1 Axes>"
      ]
     },
     "metadata": {
      "needs_background": "light"
     },
     "output_type": "display_data"
    }
   ],
   "source": [
    "# Histogramm für Subsample M\n",
    "plt.figure(figsize=(8, 6))\n",
    "sns.histplot(tokens_per_line_list_m, kde=False, color='blue', bins=10)\n",
    "plt.title('Histogramm für Subsample M')\n",
    "plt.xlabel('Tokens pro Line')\n",
    "plt.ylabel('Häufigkeit')\n",
    "plt.show()\n",
    "\n",
    "# Histogramm für Subsample W\n",
    "plt.figure(figsize=(8, 6))\n",
    "sns.histplot(tokens_per_line_list_w, kde=False, color='orange', bins=10)\n",
    "plt.title('Histogramm für Subsample W')\n",
    "plt.xlabel('Tokens pro Line')\n",
    "plt.ylabel('Häufigkeit')\n",
    "plt.show()\n",
    "\n",
    "# Kernel Density Plot für Subsample M\n",
    "plt.figure(figsize=(8, 6))\n",
    "sns.kdeplot(tokens_per_line_list_m, color='blue')\n",
    "plt.title('Kernel Density Plot für Subsample M')\n",
    "plt.xlabel('Tokens pro Line')\n",
    "plt.ylabel('Dichte')\n",
    "plt.show()\n",
    "\n",
    "# Kernel Density Plot für Subsample W\n",
    "plt.figure(figsize=(8, 6))\n",
    "sns.kdeplot(tokens_per_line_list_w, color='orange')\n",
    "plt.title('Kernel Density Plot für Subsample W')\n",
    "plt.xlabel('Tokens pro Line')\n",
    "plt.ylabel('Dichte')\n",
    "plt.show()"
   ]
  },
  {
   "cell_type": "markdown",
   "id": "f0053057",
   "metadata": {},
   "source": [
    "&rarr; keine Normalverteilung, also anderer Test, nicht t-Test?"
   ]
  },
  {
   "cell_type": "markdown",
   "id": "7a838483",
   "metadata": {},
   "source": [
    "## Versuch: t-Test\n",
    "\n",
    "- Begründung: eine unschöne, aber mögliche Option, weil t-Test relativ robust ist (siehe Stefanowitsch, Kap. 6, S. 197)\n",
    "- bietet sich aber hier eig. echt nicht an, weil die vorliegenden Daten sehr unschwer auch als Ordinaldaten verwendet werden könnten"
   ]
  },
  {
   "cell_type": "code",
   "execution_count": 8,
   "id": "03a7cacd",
   "metadata": {},
   "outputs": [
    {
     "name": "stdout",
     "output_type": "stream",
     "text": [
      "Ergebnisse des t-Tests:\n",
      "t-Statistik: 1.2921562785646339\n",
      "p-Wert: 0.19636486969216801\n",
      "Freiheitsgrad: 5717\n",
      "Es gibt keinen signifikanten Unterschied zwischen den Subsamples.\n",
      "(t(5717) = 1.292, p > 0.05)\n"
     ]
    }
   ],
   "source": [
    "# Signifikanztest (t-Test)\n",
    "t_statistic, p_value = ttest_ind(tokens_per_line_list_m, tokens_per_line_list_w, equal_var=False)\n",
    "\n",
    "# Berechne die Degrees of Freedom (Freiheitsgrade)\n",
    "# Degrees of Freedom = (Anzahl der Beobachtungen in Sample 1) + (Anzahl der Beobachtungen in Sample 2) - 2\n",
    "degree_of_freedom = sample_size_m + sample_size_w - 2\n",
    "\n",
    "print(\"Ergebnisse des t-Tests:\")\n",
    "print(\"t-Statistik:\", t_statistic)\n",
    "print(\"p-Wert:\", p_value)\n",
    "print(\"Freiheitsgrad:\", degree_of_freedom)\n",
    "\n",
    "if p_value > 0.05:\n",
    "    print(\"Es gibt keinen signifikanten Unterschied zwischen den Subsamples.\")\n",
    "else:\n",
    "    print(\"Es gibt einen signifikanten Unterschied zwischen den Subsamples.\")\n",
    "    \n",
    "print(f\"(t({degree_of_freedom}) = {round(t_statistic, 3)}, p > 0.05)\")"
   ]
  },
  {
   "cell_type": "markdown",
   "id": "35ee3e52",
   "metadata": {},
   "source": [
    "- Test scheitert nicht, Voraussetzungen dafür sind aber eigentlich nicht gegebn\n",
    "- Ergebnis: **&rarr; Nullhypothese kann nicht abgelehnt werden.**"
   ]
  },
  {
   "cell_type": "markdown",
   "id": "91d5234a",
   "metadata": {},
   "source": [
    "## &rarr; **Mann-Whitney-U-Test** (= Test für Ordinaldaten)\n",
    "- Ausweichmöglichkeit, wenn t-Test wegen nicht normalverteilten Daten nicht sinnvoll ist (siehe Stefanowitsch, Kap. 6, S. 198)"
   ]
  },
  {
   "cell_type": "code",
   "execution_count": 9,
   "id": "7ebf974d",
   "metadata": {},
   "outputs": [
    {
     "name": "stdout",
     "output_type": "stream",
     "text": [
      "Mann-Whitney-U-Test:\n",
      "U-Statistik: 3829333.0\n",
      "p-Wert: 0.5792744709820639\n",
      "Es gibt keinen signifikanten Unterschied zwischen den Subsamples.\n",
      "(U = 3829333.0, N1 = 3624, N2 = 2095, p > 0.05)\n"
     ]
    }
   ],
   "source": [
    "# Durchführung des Mann-Whitney-U-Tests\n",
    "u_statistic, p_value = mannwhitneyu(tokens_per_line_list_m, tokens_per_line_list_w, alternative='two-sided')\n",
    "\n",
    "# Ausgabe der Ergebnisse\n",
    "print(\"Mann-Whitney-U-Test:\")\n",
    "print(\"U-Statistik:\", u_statistic)\n",
    "print(\"p-Wert:\", p_value)\n",
    "\n",
    "if p_value > 0.05:\n",
    "    print(\"Es gibt keinen signifikanten Unterschied zwischen den Subsamples.\")\n",
    "else:\n",
    "    print(\"Es gibt einen signifikanten Unterschied zwischen den Subsamples.\")\n",
    "\n",
    "print(f\"(U = {u_statistic}, N1 = {sample_size_m}, N2 = {sample_size_w}, p > 0.05)\")"
   ]
  },
  {
   "cell_type": "markdown",
   "id": "b853506a",
   "metadata": {},
   "source": [
    "5. Visualisierung"
   ]
  },
  {
   "cell_type": "code",
   "execution_count": 10,
   "id": "0905abed",
   "metadata": {},
   "outputs": [
    {
     "data": {
      "image/png": "[encoded data removed]",
      "text/plain": [
       "<Figure size 432x432 with 1 Axes>"
      ]
     },
     "metadata": {
      "needs_background": "light"
     },
     "output_type": "display_data"
    }
   ],
   "source": [
    "# Zusammenführen der Daten in einem DataFrame für seaborn\n",
    "import pandas as pd\n",
    "data = pd.DataFrame({\n",
    "    \"Geschlecht\": [\"männlich\"] * sample_size_m + [\"weiblich\"] * sample_size_w,\n",
    "    \"Durchschnittliche Verslänge\": tokens_per_line_list_m + tokens_per_line_list_w\n",
    "})\n",
    "\n",
    "# Boxplot erstellen\n",
    "fig, ax = plt.subplots(figsize=(6, 6))\n",
    "sns.boxenplot(x=\"Geschlecht\", y=\"Durchschnittliche Verslänge\", data=data, ax=ax)\n",
    "\n",
    "# Label und Titel bestimmen\n",
    "plt.xlabel(\"Teilkorpus\")\n",
    "plt.ylabel(\"Verslängen\")\n",
    "plt.title(\"Durchschnittliche Verslängen nach Geschlecht\")\n",
    "\n",
    "\n",
    "# Plot anzeigen\n",
    "plt.tight_layout()\n",
    "plt.show()"
   ]
  },
  {
   "cell_type": "code",
   "execution_count": 11,
   "id": "55b4dc91",
   "metadata": {},
   "outputs": [
    {
     "data": {
      "image/png": "[encoded data removed]",
      "text/plain": [
       "<Figure size 432x288 with 1 Axes>"
      ]
     },
     "metadata": {
      "needs_background": "light"
     },
     "output_type": "display_data"
    }
   ],
   "source": [
    "import matplotlib.pyplot as plt\n",
    "\n",
    "# Erstelle eine Figure und Axes-Objekte\n",
    "fig, ax = plt.subplots()\n",
    "\n",
    "# Plotten der Daten als Boxplots\n",
    "ax.boxplot([tokens_per_line_list_m, tokens_per_line_list_w], labels=['Sample M', 'Sample W'])\n",
    "\n",
    "# Hinzufügen von Labels und Titeln\n",
    "ax.set_xlabel('Subsamples')\n",
    "ax.set_ylabel('Token Frequency')\n",
    "ax.set_title('Token Frequency in den Subsamples')\n",
    "\n",
    "# Anzeigen der Grafik\n",
    "plt.show()"
   ]
  },
  {
   "cell_type": "code",
   "execution_count": 12,
   "id": "eb06c96c",
   "metadata": {},
   "outputs": [
    {
     "data": {
      "image/png": "[encoded data removed]",
      "text/plain": [
       "<Figure size 432x288 with 1 Axes>"
      ]
     },
     "metadata": {
      "needs_background": "light"
     },
     "output_type": "display_data"
    }
   ],
   "source": [
    "# Erstelle eine Figure und Axes-Objekte\n",
    "fig, ax = plt.subplots()\n",
    "\n",
    "# Plotten der Histogramme für beide Subsamples\n",
    "ax.hist(tokens_per_line_list_m, bins=10, alpha=0.5, label='Sample M', color='blue')\n",
    "ax.hist(tokens_per_line_list_w, bins=10, alpha=0.5, label='Sample W', color='orange')\n",
    "\n",
    "# Hinzufügen von Labels und Titeln\n",
    "ax.set_xlabel('Anzahl der Tokens pro Zeile')\n",
    "ax.set_ylabel('Häufigkeit')\n",
    "ax.set_title('Verteilung der Token-Anzahl pro Zeile')\n",
    "\n",
    "# Legende anzeigen\n",
    "ax.legend()\n",
    "\n",
    "# Anzeigen der Grafik\n",
    "plt.show()"
   ]
  },
  {
   "cell_type": "code",
   "execution_count": null,
   "id": "9e6e30d1",
   "metadata": {},
   "outputs": [],
   "source": []
  }
 ],
 "metadata": {
  "kernelspec": {
   "display_name": "Python 3 (ipykernel)",
   "language": "python",
   "name": "python3"
  },
  "language_info": {
   "codemirror_mode": {
    "name": "ipython",
    "version": 3
   },
   "file_extension": ".py",
   "mimetype": "text/x-python",
   "name": "python",
   "nbconvert_exporter": "python",
   "pygments_lexer": "ipython3",
   "version": "3.11.4"
  }
 },
 "nbformat": 4,
 "nbformat_minor": 5
}
