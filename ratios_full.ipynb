{
 "cells": [
  {
   "cell_type": "code",
   "execution_count": 1,
   "metadata": {},
   "outputs": [],
   "source": [
    "import os\n",
    "import json\n",
    "import spacy\n",
    "from collections import Counter\n",
    "import matplotlib.pyplot as plt\n",
    "import numpy as np\n",
    "import statistics\n",
    "\n",
    "from scipy.stats import ttest_ind, shapiro, mannwhitneyu"
   ]
  },
  {
   "cell_type": "code",
   "execution_count": 2,
   "metadata": {},
   "outputs": [
    {
     "name": "stdout",
     "output_type": "stream",
     "text": [
      "Gender: m\n",
      "Overall average relative noun ratio: 0.2289099753045121\n",
      "Median relative noun ratio: 0.2318840579710145\n",
      "Minimum relative noun ratio: 0.0\n",
      "Maximum relative noun ratio: 0.46808510638297873 \n",
      "\n",
      "Gender: w\n",
      "Overall average relative noun ratio: 0.23066545772336672\n",
      "Median relative noun ratio: 0.22847256549678696\n",
      "Minimum relative noun ratio: 0.0\n",
      "Maximum relative noun ratio: 0.625 \n",
      "\n",
      "Gender: m\n",
      "10 most common nouns [('Wort', 238), ('Welt', 207), ('Zeit', 199), ('Licht', 177), ('Nacht', 149), ('Augen', 140), ('Hand', 139), ('Wasser', 134), ('Leben', 133), ('Himmel', 131)]\n",
      "Gender: w\n",
      "10 most common nouns [('Mission', 126), ('Zeit', 95), ('Augen', 82), ('Licht', 81), ('Wasser', 77), ('Nacht', 74), ('Himmel', 74), ('Hand', 68), ('Kopf', 59), ('augen', 58)]\n",
      "Gender: m\n",
      "Overall average relative adjective ratio: 0.04202549694468047\n",
      "Median relative adjective ratio: 0.037383177570093455\n",
      "Minimum relative adjective ratio: 0.0\n",
      "Maximum relative adjective ratio: 0.19047619047619047 \n",
      "\n",
      "Gender: w\n",
      "Overall average relative adjective ratio: 0.04787673826909224\n",
      "Median relative adjective ratio: 0.04313445795088068\n",
      "Minimum relative adjective ratio: 0.0\n",
      "Maximum relative adjective ratio: 0.1891891891891892 \n",
      "\n",
      "Gender: m\n",
      "10 most common nouns [('letzten', 64), ('anderen', 62), ('kleine', 59), ('ganze', 54), ('andere', 50), ('alte', 48), ('kleinen', 47), ('ersten', 46), ('großen', 45), ('alten', 45)]\n",
      "Gender: w\n",
      "10 most common nouns [('kleine', 43), ('anderen', 38), ('andere', 36), ('alten', 33), ('Einfache', 33), ('alte', 32), ('schwarzen', 30), ('letzten', 30), ('kleinen', 27), ('große', 26)]\n",
      "{'einschussloecher-im-datensalat-10142.json', 'gleichmaessig-10148.json', 'thermometer-10171.json', 'no-493-der-platz-war-fuer-den-kopf-2995.json', 'sonnabend-blackout-13499.json', 'trauriger-tiger-toastet-tomaten-5497.json', 'etwas-das-n-ankommt-12229.json', 'abc-windmill-10141.json', 'fuer-den-naechsten-vom-letzten-herbst-627.json', 'verstehen-624.json', 'no-487-abends-schiebt-jede-aprikose-2992.json', 'gedanken-zerren-12230.json', 'trauriger-tiger-toastet-tomaten-k-5499.json', 'arme-632.json', 'wenn-die-worte-stolpern-12291.json', 'fuer-die-koerper-die-toten-12296.json', 'blicke-schweifen-12287.json', 'schweigen-10152.json', 'die-worte-die-zu-sprechen-vergessen-wurden-12294.json', 'kleine-poetik-636.json', 'hilfsposten-630.json', 'trauriger-tiger-toastet-tomaten-b-5498.json', 'ich-liege-schwingung-auf-grund-614.json', 'k-640.json', 'voly-if-me-spika-13946.json', '13-variationen-des-themas-baum-wind-ausschnitt-178.json', 'zan-gen-634.json', 'ein-ganz-anderes-gefuehl-1801.json', 'uaeoi-10151.json', 'flosse-fell-und-federbett-5503.json', 'eins-zwei-drei-tier-5504.json', 'i-ging-transkriptionen-10149.json', 'die-worte-senken-den-blick-12286.json', 'no-481-das-duemmste-ist-3001.json', 'theorie-visueller-poesie-10172.json', 'no-492-der-loeffelbieger-sagt-2993.json', 'wenn-der-verstand-das-gespraech-verlaesst-12293.json', 'nichts-zu-pferd-11416.json', 'trauriger-tiger-toastet-tomaten-qr-5501.json', 'das-eulbehaelterstueck-11418.json', 'bilder-schweifen-vor-der-retina-12295.json', 'wine-i-ii-10173.json', 'abtritt-633.json', 'huizzi-2929.json', 'goethe-642.json', 'trauriger-tiger-toastet-tomaten-z-5502.json', 'zehn-verbote-14715.json', 'aesthetik-der-existenz-10169.json', 'andreas-10170.json', 'no-503-sobald-ich-die-melone-aufschneide-2994.json', 'schscht-vogel-heiser-11417.json', 'trauriger-tiger-toastet-tomaten-p-5500.json', 'stecken-bleiben-12290.json', 'eine-schiefe-beobachtung-12289.json', 'schuerfe-auf-12292.json'}\n"
     ]
    }
   ],
   "source": [
    "path = r'corpus_finished_new'\n",
    "\n",
    "# Load German tokenizer, tagger, parser, NER and word vectors\n",
    "nlp = spacy.load('de_core_news_md')\n",
    "\n",
    "# Initialize data structures\n",
    "nouns_gender = {'m': Counter(), 'w': Counter()}\n",
    "adjectives_gender = {'m': Counter(), 'w': Counter()}\n",
    "noun_ratios_gender = {'m': [], 'w': []}\n",
    "adjectives_ratios_gender = {'m': [], 'w': []}\n",
    "not_counted = set()\n",
    "\n",
    "# Iterate over .json files\n",
    "for filename in os.listdir(path):\n",
    "    if filename.endswith('.json'):\n",
    "        with open(os.path.join(path, filename), 'r', encoding='utf-8') as f:\n",
    "            data = json.load(f)\n",
    "            gender = data['gender']\n",
    "            poem_text = ' '.join(line['text'] for line in data['poem'].values())\n",
    "            doc = nlp(poem_text)\n",
    "            nouns = [token.text for token in doc if token.pos_ == 'NOUN']\n",
    "            adjectives = [token.text for token in doc if token.pos_ == 'ADJ']\n",
    "            try:\n",
    "                ratio_nouns = len(nouns) / len(poem_text.split())\n",
    "                nouns_gender[gender].update(nouns)\n",
    "                noun_ratios_gender[gender].append(ratio_nouns)\n",
    "                ratio_adjectives = len(adjectives) / len(poem_text.split())\n",
    "                adjectives_gender[gender].update(adjectives)\n",
    "                adjectives_ratios_gender[gender].append(ratio_adjectives)\n",
    "            except:\n",
    "                not_counted.add(filename)\n",
    "                \n",
    "# Calculate average  ratios for each gender\n",
    "average_ratios_gender_nouns = {gender: sum(ratios) / len(ratios) for gender, ratios in noun_ratios_gender.items()}\n",
    "all_genders_nouns = sorted(list(average_ratios_gender_nouns.keys()))\n",
    "\n",
    "average_ratios_gender_adjectives = {gender: sum(ratios) / len(ratios) for gender, ratios in adjectives_ratios_gender.items()}\n",
    "all_genders_adjectives = sorted(list(average_ratios_gender_adjectives.keys()))\n",
    "\n",
    "# Print the overall, median, minimum and maximum noun ratio for each gender\n",
    "for gender in all_genders_nouns:\n",
    "    all_ratios_nouns = noun_ratios_gender[gender]\n",
    "    print(f'Gender: {gender}')\n",
    "    print('Overall average relative noun ratio:', sum(all_ratios_nouns) / len(all_ratios_nouns))\n",
    "    print('Median relative noun ratio:', statistics.median(all_ratios_nouns))\n",
    "    print('Minimum relative noun ratio:', min(all_ratios_nouns))\n",
    "    print('Maximum relative noun ratio:', max(all_ratios_nouns), '\\n')\n",
    "\n",
    "# Print the 10 most common nouns for each gender and selected category\n",
    "for gender in all_genders_nouns:\n",
    "    print(f'Gender: {gender}')\n",
    "    print('10 most common nouns', nouns_gender[gender].most_common(10))\n",
    "\n",
    "# Print the overall, median, minimum and maximum adjective ratio for each gender\n",
    "for gender in all_genders_adjectives:\n",
    "    all_ratios_adjectives = adjectives_ratios_gender[gender]\n",
    "    print(f'Gender: {gender}')\n",
    "    print('Overall average relative adjective ratio:', sum(all_ratios_adjectives) / len(all_ratios_adjectives))\n",
    "    print('Median relative adjective ratio:', statistics.median(all_ratios_adjectives))\n",
    "    print('Minimum relative adjective ratio:', min(all_ratios_adjectives))\n",
    "    print('Maximum relative adjective ratio:', max(all_ratios_adjectives), '\\n')\n",
    "\n",
    "# Print the 10 most common adjectives for each gender and selected category\n",
    "for gender in all_genders_adjectives:\n",
    "    print(f'Gender: {gender}')\n",
    "    print('10 most common nouns', adjectives_gender[gender].most_common(10))\n"
   ]
  },
  {
   "cell_type": "code",
   "execution_count": 21,
   "metadata": {},
   "outputs": [
    {
     "name": "stdout",
     "output_type": "stream",
     "text": [
      "['13-variationen-des-themas-baum-wind-ausschnitt-178.json', 'abc-windmill-10141.json', 'abtritt-633.json', 'aesthetik-der-existenz-10169.json', 'andreas-10170.json', 'arme-632.json', 'bilder-schweifen-vor-der-retina-12295.json', 'blicke-schweifen-12287.json', 'das-eulbehaelterstueck-11418.json', 'die-worte-die-zu-sprechen-vergessen-wurden-12294.json', 'die-worte-senken-den-blick-12286.json', 'ein-ganz-anderes-gefuehl-1801.json', 'eine-schiefe-beobachtung-12289.json', 'eins-zwei-drei-tier-5504.json', 'einschussloecher-im-datensalat-10142.json', 'etwas-das-n-ankommt-12229.json', 'flosse-fell-und-federbett-5503.json', 'fuer-den-naechsten-vom-letzten-herbst-627.json', 'fuer-die-koerper-die-toten-12296.json', 'gedanken-zerren-12230.json', 'gleichmaessig-10148.json', 'goethe-642.json', 'hilfsposten-630.json', 'huizzi-2929.json', 'i-ging-transkriptionen-10149.json', 'ich-liege-schwingung-auf-grund-614.json', 'k-640.json', 'kleine-poetik-636.json', 'nichts-zu-pferd-11416.json', 'no-481-das-duemmste-ist-3001.json', 'no-487-abends-schiebt-jede-aprikose-2992.json', 'no-492-der-loeffelbieger-sagt-2993.json', 'no-493-der-platz-war-fuer-den-kopf-2995.json', 'no-503-sobald-ich-die-melone-aufschneide-2994.json', 'schscht-vogel-heiser-11417.json', 'schuerfe-auf-12292.json', 'schweigen-10152.json', 'sonnabend-blackout-13499.json', 'stecken-bleiben-12290.json', 'theorie-visueller-poesie-10172.json', 'thermometer-10171.json', 'trauriger-tiger-toastet-tomaten-5497.json', 'trauriger-tiger-toastet-tomaten-b-5498.json', 'trauriger-tiger-toastet-tomaten-k-5499.json', 'trauriger-tiger-toastet-tomaten-p-5500.json', 'trauriger-tiger-toastet-tomaten-qr-5501.json', 'trauriger-tiger-toastet-tomaten-z-5502.json', 'uaeoi-10151.json', 'verstehen-624.json', 'voly-if-me-spika-13946.json', 'wenn-der-verstand-das-gespraech-verlaesst-12293.json', 'wenn-die-worte-stolpern-12291.json', 'wine-i-ii-10173.json', 'zan-gen-634.json', 'zehn-verbote-14715.json']\n"
     ]
    }
   ],
   "source": [
    "\n",
    "print(sorted(list(not_counted)))"
   ]
  },
  {
   "cell_type": "code",
   "execution_count": 3,
   "metadata": {},
   "outputs": [],
   "source": [
    "# Funktion zum Durchführen des Shapiro-Wilk-Tests und zur Interpretation der Ergebnisse\n",
    "def test_normality(data, sample_name):\n",
    "    stat, p_value = shapiro(data)\n",
    "    alpha = 0.05  # Signifikanzniveau\n",
    "    print(f\"Shapiro-Wilk-Test für {sample_name}:\")\n",
    "    print(\"Teststatistik:\", stat)\n",
    "    print(\"p-Wert:\", p_value)\n",
    "    if p_value > alpha:\n",
    "        print(f\"Die Substantivfrequenzen für {sample_name} sind normalverteilt.\")\n",
    "    else:\n",
    "        print(f\"Die Substantivfrequenzen für {sample_name} sind nicht normalverteilt.\")"
   ]
  },
  {
   "cell_type": "code",
   "execution_count": 4,
   "metadata": {},
   "outputs": [
    {
     "name": "stdout",
     "output_type": "stream",
     "text": [
      "Nouns\n",
      "Shapiro-Wilk-Test für Sample M:\n",
      "Teststatistik: 0.9937336444854736\n",
      "p-Wert: 7.798521437507588e-06\n",
      "Die Substantivfrequenzen für Sample M sind nicht normalverteilt.\n",
      "Shapiro-Wilk-Test für Sample W:\n",
      "Teststatistik: 0.9830814003944397\n",
      "p-Wert: 3.5839859968689325e-09\n",
      "Die Substantivfrequenzen für Sample W sind nicht normalverteilt.\n"
     ]
    }
   ],
   "source": [
    "# Durchführung des Tests für beide Subsamples\n",
    "print('Nouns')\n",
    "test_normality(noun_ratios_gender['m'], \"Sample M\")\n",
    "test_normality(noun_ratios_gender['w'], \"Sample W\")"
   ]
  },
  {
   "cell_type": "code",
   "execution_count": 5,
   "metadata": {},
   "outputs": [
    {
     "name": "stdout",
     "output_type": "stream",
     "text": [
      "Adjectives\n",
      "Shapiro-Wilk-Test für Sample M:\n",
      "Teststatistik: 0.9395573735237122\n",
      "p-Wert: 6.376049124691613e-24\n",
      "Die Substantivfrequenzen für Sample M sind nicht normalverteilt.\n",
      "Shapiro-Wilk-Test für Sample W:\n",
      "Teststatistik: 0.9392551183700562\n",
      "p-Wert: 1.801250148825632e-19\n",
      "Die Substantivfrequenzen für Sample W sind nicht normalverteilt.\n"
     ]
    }
   ],
   "source": [
    "# Durchführung des Tests für beide Subsamples\n",
    "print('Adjectives')\n",
    "test_normality(adjectives_ratios_gender['m'], \"Sample M\")\n",
    "test_normality(adjectives_ratios_gender['w'], \"Sample W\")"
   ]
  },
  {
   "cell_type": "code",
   "execution_count": 6,
   "metadata": {},
   "outputs": [],
   "source": [
    "import scipy.stats as stats"
   ]
  },
  {
   "cell_type": "code",
   "execution_count": 13,
   "metadata": {},
   "outputs": [
    {
     "name": "stdout",
     "output_type": "stream",
     "text": [
      "-0.6228323980043629\n",
      "0.5334531824010794\n"
     ]
    }
   ],
   "source": [
    "u_stat, p_val = stats.ttest_ind(noun_ratios_gender['m'], noun_ratios_gender['w'], alternative='two-sided')\n",
    "print(u_stat)\n",
    "print(p_val)"
   ]
  },
  {
   "cell_type": "code",
   "execution_count": 7,
   "metadata": {},
   "outputs": [
    {
     "name": "stdout",
     "output_type": "stream",
     "text": [
      "Mann-Whitney U-Statistik: 703465.5\n",
      "p-Wert: 0.8063891449140497\n"
     ]
    }
   ],
   "source": [
    "# Perform the Mann-Whitney-U-Test to compare the distributions\n",
    "u_stat, p_val = stats.mannwhitneyu(noun_ratios_gender['m'], noun_ratios_gender['w'], alternative='two-sided')\n",
    "\n",
    "print('Mann-Whitney U-Statistik:', u_stat)\n",
    "print('p-Wert:', p_val)"
   ]
  },
  {
   "cell_type": "code",
   "execution_count": 8,
   "metadata": {},
   "outputs": [
    {
     "name": "stdout",
     "output_type": "stream",
     "text": [
      "Mann-Whitney U-Statistik: 640677.5\n",
      "p-Wert: 7.619898846782165e-05\n"
     ]
    }
   ],
   "source": [
    "# Perform the Mann-Whitney-U-Test to compare the distributions\n",
    "u_stat, p_val = stats.mannwhitneyu(adjectives_ratios_gender['m'], adjectives_ratios_gender['w'], alternative='two-sided')\n",
    "\n",
    "print('Mann-Whitney U-Statistik:', u_stat)\n",
    "print('p-Wert:', p_val)"
   ]
  },
  {
   "cell_type": "code",
   "execution_count": 16,
   "metadata": {},
   "outputs": [
    {
     "data": {
      "image/png": "[encoded data removed]",
      "text/plain": [
       "<Figure size 640x480 with 1 Axes>"
      ]
     },
     "metadata": {},
     "output_type": "display_data"
    }
   ],
   "source": [
    "# Erstelle eine Figure und Axes-Objekte\n",
    "fig, ax = plt.subplots()\n",
    "\n",
    "# Plotten der Histogramme für beide Subsamples\n",
    "ax.hist(noun_ratios_gender['m'], bins=50, alpha=0.5, label='Sample M', color='blue', density=True)\n",
    "ax.hist(noun_ratios_gender['w'], bins=50, alpha=0.5, label='Sample W', color='orange', density=True)\n",
    "\n",
    "# Hinzufügen von Labels und Titeln\n",
    "ax.set_xlabel('Anteil')\n",
    "ax.set_ylabel('Menge')\n",
    "ax.set_title('Verteilung der Substantivanteile')\n",
    "\n",
    "# Legende anzeigen\n",
    "ax.legend()\n",
    "\n",
    "# Anzeigen der Grafik\n",
    "plt.show()"
   ]
  },
  {
   "cell_type": "code",
   "execution_count": 17,
   "metadata": {},
   "outputs": [
    {
     "data": {
      "image/png": "[encoded data removed]",
      "text/plain": [
       "<Figure size 640x480 with 1 Axes>"
      ]
     },
     "metadata": {},
     "output_type": "display_data"
    }
   ],
   "source": [
    "# Erstelle eine Figure und Axes-Objekte\n",
    "fig, ax = plt.subplots()\n",
    "\n",
    "# Plotten der Histogramme für beide Subsamples\n",
    "ax.hist(adjectives_ratios_gender['m'], bins=50, alpha=0.5, label='Sample M', color='blue', density=True)\n",
    "ax.hist(adjectives_ratios_gender['w'], bins=50, alpha=0.5, label='Sample W', color='orange', density=True)\n",
    "\n",
    "# Hinzufügen von Labels und Titeln\n",
    "ax.set_xlabel('Anteil')\n",
    "ax.set_ylabel('Menge')\n",
    "ax.set_title('Verteilung der Adjektivanteile')\n",
    "\n",
    "# Legende anzeigen\n",
    "ax.legend()\n",
    "\n",
    "# Anzeigen der Grafik\n",
    "plt.show()"
   ]
  },
  {
   "cell_type": "code",
   "execution_count": null,
   "metadata": {},
   "outputs": [],
   "source": []
  }
 ],
 "metadata": {
  "kernelspec": {
   "display_name": "Python 3",
   "language": "python",
   "name": "python3"
  },
  "language_info": {
   "codemirror_mode": {
    "name": "ipython",
    "version": 3
   },
   "file_extension": ".py",
   "mimetype": "text/x-python",
   "name": "python",
   "nbconvert_exporter": "python",
   "pygments_lexer": "ipython3",
   "version": "3.10.4"
  },
  "orig_nbformat": 4
 },
 "nbformat": 4,
 "nbformat_minor": 2
}
